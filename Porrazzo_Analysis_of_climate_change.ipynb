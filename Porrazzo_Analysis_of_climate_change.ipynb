{
  "nbformat": 4,
  "nbformat_minor": 0,
  "metadata": {
    "colab": {
      "provenance": [],
      "collapsed_sections": [],
      "mount_file_id": "1DfliQ_KQOvVLfN20QhfxDE2uJ_xcO8S6",
      "authorship_tag": "ABX9TyOVm5bUAybtHAtc7BtQBxCB",
      "include_colab_link": true
    },
    "kernelspec": {
      "name": "python3",
      "display_name": "Python 3"
    },
    "language_info": {
      "name": "python"
    }
  },
  "cells": [
    {
      "cell_type": "markdown",
      "metadata": {
        "id": "view-in-github",
        "colab_type": "text"
      },
      "source": [
        "<a href=\"https://colab.research.google.com/github/andreaPorrazzo/Porrazzo-Analysis-of-climate-change-and-its-potential-impacts/blob/main/Porrazzo_Analysis_of_climate_change.ipynb\" target=\"_parent\"><img src=\"https://colab.research.google.com/assets/colab-badge.svg\" alt=\"Open In Colab\"/></a>"
      ]
    },
    {
      "cell_type": "markdown",
      "source": [
        "#1. Notebook Setup\n",
        "Import all needed libraries:"
      ],
      "metadata": {
        "id": "N_sZYjiN9IXh"
      }
    },
    {
      "cell_type": "code",
      "source": [
        "!pip install --upgrade xlrd"
      ],
      "metadata": {
        "colab": {
          "base_uri": "https://localhost:8080/"
        },
        "id": "wzhS99_lzOik",
        "outputId": "41807158-8a5b-4a0c-aac3-08cf58930765"
      },
      "execution_count": 1,
      "outputs": [
        {
          "output_type": "stream",
          "name": "stdout",
          "text": [
            "Looking in indexes: https://pypi.org/simple, https://us-python.pkg.dev/colab-wheels/public/simple/\n",
            "Requirement already satisfied: xlrd in /usr/local/lib/python3.7/dist-packages (1.1.0)\n",
            "Collecting xlrd\n",
            "  Downloading xlrd-2.0.1-py2.py3-none-any.whl (96 kB)\n",
            "\u001b[K     |████████████████████████████████| 96 kB 4.4 MB/s \n",
            "\u001b[?25hInstalling collected packages: xlrd\n",
            "  Attempting uninstall: xlrd\n",
            "    Found existing installation: xlrd 1.1.0\n",
            "    Uninstalling xlrd-1.1.0:\n",
            "      Successfully uninstalled xlrd-1.1.0\n",
            "Successfully installed xlrd-2.0.1\n"
          ]
        }
      ]
    },
    {
      "cell_type": "code",
      "source": [
        "!pip install --upgrade openpyxl"
      ],
      "metadata": {
        "colab": {
          "base_uri": "https://localhost:8080/"
        },
        "id": "V9cVLI9TcW6N",
        "outputId": "d94165e1-d0b0-42c5-a845-1900668484a9"
      },
      "execution_count": 2,
      "outputs": [
        {
          "output_type": "stream",
          "name": "stdout",
          "text": [
            "Looking in indexes: https://pypi.org/simple, https://us-python.pkg.dev/colab-wheels/public/simple/\n",
            "Requirement already satisfied: openpyxl in /usr/local/lib/python3.7/dist-packages (3.0.10)\n",
            "Requirement already satisfied: et-xmlfile in /usr/local/lib/python3.7/dist-packages (from openpyxl) (1.1.0)\n"
          ]
        }
      ]
    },
    {
      "cell_type": "code",
      "source": [
        "!pip install --upgrade pandas"
      ],
      "metadata": {
        "colab": {
          "base_uri": "https://localhost:8080/"
        },
        "id": "b-C4hz67xpcy",
        "outputId": "01bc194e-b973-4c81-b412-326ddfb32e43"
      },
      "execution_count": 3,
      "outputs": [
        {
          "output_type": "stream",
          "name": "stdout",
          "text": [
            "Looking in indexes: https://pypi.org/simple, https://us-python.pkg.dev/colab-wheels/public/simple/\n",
            "Requirement already satisfied: pandas in /usr/local/lib/python3.7/dist-packages (1.3.5)\n",
            "Requirement already satisfied: python-dateutil>=2.7.3 in /usr/local/lib/python3.7/dist-packages (from pandas) (2.8.2)\n",
            "Requirement already satisfied: numpy>=1.17.3 in /usr/local/lib/python3.7/dist-packages (from pandas) (1.21.6)\n",
            "Requirement already satisfied: pytz>=2017.3 in /usr/local/lib/python3.7/dist-packages (from pandas) (2022.6)\n",
            "Requirement already satisfied: six>=1.5 in /usr/local/lib/python3.7/dist-packages (from python-dateutil>=2.7.3->pandas) (1.15.0)\n"
          ]
        }
      ]
    },
    {
      "cell_type": "code",
      "execution_count": 4,
      "metadata": {
        "id": "VIN_c7yv7Qba"
      },
      "outputs": [],
      "source": [
        "%matplotlib inline\n",
        "\n",
        "import pandas as pd\n",
        "import numpy as np\n",
        "import seaborn as sns\n",
        "import matplotlib.pyplot as plt\n",
        "import csv\n"
      ]
    },
    {
      "cell_type": "markdown",
      "source": [
        "The complete Climate Change Dataset is imported into a pandas DataFrame form the downloaded file \"climate-change-excel.xls\""
      ],
      "metadata": {
        "id": "uTDA50l99XJ2"
      }
    },
    {
      "cell_type": "code",
      "source": [
        "#read the data from the excel file to a pandas DataFrame\n",
        "data=pd.read_excel('/content/drive/MyDrive/Dataset/climate-change-excel.xls') \n",
        "df = pd.DataFrame(data)"
      ],
      "metadata": {
        "id": "xW1e1tV87_Yt"
      },
      "execution_count": 5,
      "outputs": []
    },
    {
      "cell_type": "markdown",
      "source": [
        "#2. Global data overview\n",
        "A global overview of the imported data yields the following insights:"
      ],
      "metadata": {
        "id": "LAkVTG3m9nSB"
      }
    },
    {
      "cell_type": "code",
      "source": [
        "print(\"Shape of the original dataset:\")\n",
        "df.shape"
      ],
      "metadata": {
        "colab": {
          "base_uri": "https://localhost:8080/"
        },
        "id": "-V_n4kAKueyM",
        "outputId": "a102aaaf-f5e7-495d-aca8-22068fb9afd3"
      },
      "execution_count": 6,
      "outputs": [
        {
          "output_type": "stream",
          "name": "stdout",
          "text": [
            "Shape of the original dataset:\n"
          ]
        },
        {
          "output_type": "execute_result",
          "data": {
            "text/plain": [
              "(13512, 28)"
            ]
          },
          "metadata": {},
          "execution_count": 6
        }
      ]
    },
    {
      "cell_type": "code",
      "source": [
        "print (\"Available columns:\")\n",
        "df.columns"
      ],
      "metadata": {
        "colab": {
          "base_uri": "https://localhost:8080/"
        },
        "id": "u5FYFerN0aYq",
        "outputId": "76dc6d8f-bc67-4894-9b92-468cb80421b5"
      },
      "execution_count": 7,
      "outputs": [
        {
          "output_type": "stream",
          "name": "stdout",
          "text": [
            "Available columns:\n"
          ]
        },
        {
          "output_type": "execute_result",
          "data": {
            "text/plain": [
              "Index(['Country code', 'Country name',  'Series code',  'Series name',\n",
              "              'SCALE',     'Decimals',           1990,           1991,\n",
              "                 1992,           1993,           1994,           1995,\n",
              "                 1996,           1997,           1998,           1999,\n",
              "                 2000,           2001,           2002,           2003,\n",
              "                 2004,           2005,           2006,           2007,\n",
              "                 2008,           2009,           2010,           2011],\n",
              "      dtype='object')"
            ]
          },
          "metadata": {},
          "execution_count": 7
        }
      ]
    },
    {
      "cell_type": "code",
      "source": [
        "print(\"Overiew of the first 5 rows:\")\n",
        "df.head()"
      ],
      "metadata": {
        "colab": {
          "base_uri": "https://localhost:8080/",
          "height": 768
        },
        "id": "2MPWAfOA0pCU",
        "outputId": "418680bb-2eb8-440f-baf3-421060aa61b0"
      },
      "execution_count": 8,
      "outputs": [
        {
          "output_type": "stream",
          "name": "stdout",
          "text": [
            "Overiew of the first 5 rows:\n"
          ]
        },
        {
          "output_type": "execute_result",
          "data": {
            "text/plain": [
              "  Country code Country name     Series code  \\\n",
              "0          ABW        Aruba  AG.LND.EL5M.ZS   \n",
              "1          ADO      Andorra  AG.LND.EL5M.ZS   \n",
              "2          AFG  Afghanistan  AG.LND.EL5M.ZS   \n",
              "3          AGO       Angola  AG.LND.EL5M.ZS   \n",
              "4          ALB      Albania  AG.LND.EL5M.ZS   \n",
              "\n",
              "                           Series name SCALE Decimals      1990 1991 1992  \\\n",
              "0  Land area below 5m (% of land area)     0        1  29.57481   ..   ..   \n",
              "1  Land area below 5m (% of land area)     0        1         0   ..   ..   \n",
              "2  Land area below 5m (% of land area)     0        1         0   ..   ..   \n",
              "3  Land area below 5m (% of land area)     0        1  0.208235   ..   ..   \n",
              "4  Land area below 5m (% of land area)     0        1  4.967875   ..   ..   \n",
              "\n",
              "  1993  ... 2002 2003 2004 2005 2006 2007 2008 2009 2010 2011  \n",
              "0   ..  ...   ..   ..   ..   ..   ..   ..   ..   ..   ..   ..  \n",
              "1   ..  ...   ..   ..   ..   ..   ..   ..   ..   ..   ..   ..  \n",
              "2   ..  ...   ..   ..   ..   ..   ..   ..   ..   ..   ..   ..  \n",
              "3   ..  ...   ..   ..   ..   ..   ..   ..   ..   ..   ..   ..  \n",
              "4   ..  ...   ..   ..   ..   ..   ..   ..   ..   ..   ..   ..  \n",
              "\n",
              "[5 rows x 28 columns]"
            ],
            "text/html": [
              "\n",
              "  <div id=\"df-609c06ac-a706-4832-8949-42215ac350ae\">\n",
              "    <div class=\"colab-df-container\">\n",
              "      <div>\n",
              "<style scoped>\n",
              "    .dataframe tbody tr th:only-of-type {\n",
              "        vertical-align: middle;\n",
              "    }\n",
              "\n",
              "    .dataframe tbody tr th {\n",
              "        vertical-align: top;\n",
              "    }\n",
              "\n",
              "    .dataframe thead th {\n",
              "        text-align: right;\n",
              "    }\n",
              "</style>\n",
              "<table border=\"1\" class=\"dataframe\">\n",
              "  <thead>\n",
              "    <tr style=\"text-align: right;\">\n",
              "      <th></th>\n",
              "      <th>Country code</th>\n",
              "      <th>Country name</th>\n",
              "      <th>Series code</th>\n",
              "      <th>Series name</th>\n",
              "      <th>SCALE</th>\n",
              "      <th>Decimals</th>\n",
              "      <th>1990</th>\n",
              "      <th>1991</th>\n",
              "      <th>1992</th>\n",
              "      <th>1993</th>\n",
              "      <th>...</th>\n",
              "      <th>2002</th>\n",
              "      <th>2003</th>\n",
              "      <th>2004</th>\n",
              "      <th>2005</th>\n",
              "      <th>2006</th>\n",
              "      <th>2007</th>\n",
              "      <th>2008</th>\n",
              "      <th>2009</th>\n",
              "      <th>2010</th>\n",
              "      <th>2011</th>\n",
              "    </tr>\n",
              "  </thead>\n",
              "  <tbody>\n",
              "    <tr>\n",
              "      <th>0</th>\n",
              "      <td>ABW</td>\n",
              "      <td>Aruba</td>\n",
              "      <td>AG.LND.EL5M.ZS</td>\n",
              "      <td>Land area below 5m (% of land area)</td>\n",
              "      <td>0</td>\n",
              "      <td>1</td>\n",
              "      <td>29.57481</td>\n",
              "      <td>..</td>\n",
              "      <td>..</td>\n",
              "      <td>..</td>\n",
              "      <td>...</td>\n",
              "      <td>..</td>\n",
              "      <td>..</td>\n",
              "      <td>..</td>\n",
              "      <td>..</td>\n",
              "      <td>..</td>\n",
              "      <td>..</td>\n",
              "      <td>..</td>\n",
              "      <td>..</td>\n",
              "      <td>..</td>\n",
              "      <td>..</td>\n",
              "    </tr>\n",
              "    <tr>\n",
              "      <th>1</th>\n",
              "      <td>ADO</td>\n",
              "      <td>Andorra</td>\n",
              "      <td>AG.LND.EL5M.ZS</td>\n",
              "      <td>Land area below 5m (% of land area)</td>\n",
              "      <td>0</td>\n",
              "      <td>1</td>\n",
              "      <td>0</td>\n",
              "      <td>..</td>\n",
              "      <td>..</td>\n",
              "      <td>..</td>\n",
              "      <td>...</td>\n",
              "      <td>..</td>\n",
              "      <td>..</td>\n",
              "      <td>..</td>\n",
              "      <td>..</td>\n",
              "      <td>..</td>\n",
              "      <td>..</td>\n",
              "      <td>..</td>\n",
              "      <td>..</td>\n",
              "      <td>..</td>\n",
              "      <td>..</td>\n",
              "    </tr>\n",
              "    <tr>\n",
              "      <th>2</th>\n",
              "      <td>AFG</td>\n",
              "      <td>Afghanistan</td>\n",
              "      <td>AG.LND.EL5M.ZS</td>\n",
              "      <td>Land area below 5m (% of land area)</td>\n",
              "      <td>0</td>\n",
              "      <td>1</td>\n",
              "      <td>0</td>\n",
              "      <td>..</td>\n",
              "      <td>..</td>\n",
              "      <td>..</td>\n",
              "      <td>...</td>\n",
              "      <td>..</td>\n",
              "      <td>..</td>\n",
              "      <td>..</td>\n",
              "      <td>..</td>\n",
              "      <td>..</td>\n",
              "      <td>..</td>\n",
              "      <td>..</td>\n",
              "      <td>..</td>\n",
              "      <td>..</td>\n",
              "      <td>..</td>\n",
              "    </tr>\n",
              "    <tr>\n",
              "      <th>3</th>\n",
              "      <td>AGO</td>\n",
              "      <td>Angola</td>\n",
              "      <td>AG.LND.EL5M.ZS</td>\n",
              "      <td>Land area below 5m (% of land area)</td>\n",
              "      <td>0</td>\n",
              "      <td>1</td>\n",
              "      <td>0.208235</td>\n",
              "      <td>..</td>\n",
              "      <td>..</td>\n",
              "      <td>..</td>\n",
              "      <td>...</td>\n",
              "      <td>..</td>\n",
              "      <td>..</td>\n",
              "      <td>..</td>\n",
              "      <td>..</td>\n",
              "      <td>..</td>\n",
              "      <td>..</td>\n",
              "      <td>..</td>\n",
              "      <td>..</td>\n",
              "      <td>..</td>\n",
              "      <td>..</td>\n",
              "    </tr>\n",
              "    <tr>\n",
              "      <th>4</th>\n",
              "      <td>ALB</td>\n",
              "      <td>Albania</td>\n",
              "      <td>AG.LND.EL5M.ZS</td>\n",
              "      <td>Land area below 5m (% of land area)</td>\n",
              "      <td>0</td>\n",
              "      <td>1</td>\n",
              "      <td>4.967875</td>\n",
              "      <td>..</td>\n",
              "      <td>..</td>\n",
              "      <td>..</td>\n",
              "      <td>...</td>\n",
              "      <td>..</td>\n",
              "      <td>..</td>\n",
              "      <td>..</td>\n",
              "      <td>..</td>\n",
              "      <td>..</td>\n",
              "      <td>..</td>\n",
              "      <td>..</td>\n",
              "      <td>..</td>\n",
              "      <td>..</td>\n",
              "      <td>..</td>\n",
              "    </tr>\n",
              "  </tbody>\n",
              "</table>\n",
              "<p>5 rows × 28 columns</p>\n",
              "</div>\n",
              "      <button class=\"colab-df-convert\" onclick=\"convertToInteractive('df-609c06ac-a706-4832-8949-42215ac350ae')\"\n",
              "              title=\"Convert this dataframe to an interactive table.\"\n",
              "              style=\"display:none;\">\n",
              "        \n",
              "  <svg xmlns=\"http://www.w3.org/2000/svg\" height=\"24px\"viewBox=\"0 0 24 24\"\n",
              "       width=\"24px\">\n",
              "    <path d=\"M0 0h24v24H0V0z\" fill=\"none\"/>\n",
              "    <path d=\"M18.56 5.44l.94 2.06.94-2.06 2.06-.94-2.06-.94-.94-2.06-.94 2.06-2.06.94zm-11 1L8.5 8.5l.94-2.06 2.06-.94-2.06-.94L8.5 2.5l-.94 2.06-2.06.94zm10 10l.94 2.06.94-2.06 2.06-.94-2.06-.94-.94-2.06-.94 2.06-2.06.94z\"/><path d=\"M17.41 7.96l-1.37-1.37c-.4-.4-.92-.59-1.43-.59-.52 0-1.04.2-1.43.59L10.3 9.45l-7.72 7.72c-.78.78-.78 2.05 0 2.83L4 21.41c.39.39.9.59 1.41.59.51 0 1.02-.2 1.41-.59l7.78-7.78 2.81-2.81c.8-.78.8-2.07 0-2.86zM5.41 20L4 18.59l7.72-7.72 1.47 1.35L5.41 20z\"/>\n",
              "  </svg>\n",
              "      </button>\n",
              "      \n",
              "  <style>\n",
              "    .colab-df-container {\n",
              "      display:flex;\n",
              "      flex-wrap:wrap;\n",
              "      gap: 12px;\n",
              "    }\n",
              "\n",
              "    .colab-df-convert {\n",
              "      background-color: #E8F0FE;\n",
              "      border: none;\n",
              "      border-radius: 50%;\n",
              "      cursor: pointer;\n",
              "      display: none;\n",
              "      fill: #1967D2;\n",
              "      height: 32px;\n",
              "      padding: 0 0 0 0;\n",
              "      width: 32px;\n",
              "    }\n",
              "\n",
              "    .colab-df-convert:hover {\n",
              "      background-color: #E2EBFA;\n",
              "      box-shadow: 0px 1px 2px rgba(60, 64, 67, 0.3), 0px 1px 3px 1px rgba(60, 64, 67, 0.15);\n",
              "      fill: #174EA6;\n",
              "    }\n",
              "\n",
              "    [theme=dark] .colab-df-convert {\n",
              "      background-color: #3B4455;\n",
              "      fill: #D2E3FC;\n",
              "    }\n",
              "\n",
              "    [theme=dark] .colab-df-convert:hover {\n",
              "      background-color: #434B5C;\n",
              "      box-shadow: 0px 1px 3px 1px rgba(0, 0, 0, 0.15);\n",
              "      filter: drop-shadow(0px 1px 2px rgba(0, 0, 0, 0.3));\n",
              "      fill: #FFFFFF;\n",
              "    }\n",
              "  </style>\n",
              "\n",
              "      <script>\n",
              "        const buttonEl =\n",
              "          document.querySelector('#df-609c06ac-a706-4832-8949-42215ac350ae button.colab-df-convert');\n",
              "        buttonEl.style.display =\n",
              "          google.colab.kernel.accessAllowed ? 'block' : 'none';\n",
              "\n",
              "        async function convertToInteractive(key) {\n",
              "          const element = document.querySelector('#df-609c06ac-a706-4832-8949-42215ac350ae');\n",
              "          const dataTable =\n",
              "            await google.colab.kernel.invokeFunction('convertToInteractive',\n",
              "                                                     [key], {});\n",
              "          if (!dataTable) return;\n",
              "\n",
              "          const docLinkHtml = 'Like what you see? Visit the ' +\n",
              "            '<a target=\"_blank\" href=https://colab.research.google.com/notebooks/data_table.ipynb>data table notebook</a>'\n",
              "            + ' to learn more about interactive tables.';\n",
              "          element.innerHTML = '';\n",
              "          dataTable['output_type'] = 'display_data';\n",
              "          await google.colab.output.renderOutput(dataTable, element);\n",
              "          const docLink = document.createElement('div');\n",
              "          docLink.innerHTML = docLinkHtml;\n",
              "          element.appendChild(docLink);\n",
              "        }\n",
              "      </script>\n",
              "    </div>\n",
              "  </div>\n",
              "  "
            ]
          },
          "metadata": {},
          "execution_count": 8
        }
      ]
    },
    {
      "cell_type": "code",
      "source": [
        "print(\"Descriptive statistics of the columns:\")\n",
        "df.describe()"
      ],
      "metadata": {
        "colab": {
          "base_uri": "https://localhost:8080/",
          "height": 390
        },
        "id": "4-ozytqh0xoj",
        "outputId": "5d73eb78-1fdb-4a3b-b19a-c642802d123f"
      },
      "execution_count": 9,
      "outputs": [
        {
          "output_type": "stream",
          "name": "stdout",
          "text": [
            "Descriptive statistics of the columns:\n"
          ]
        },
        {
          "output_type": "execute_result",
          "data": {
            "text/plain": [
              "       Country code Country name     Series code  \\\n",
              "count         13512        13512           13512   \n",
              "unique          233          233              58   \n",
              "top             ABW        Aruba  AG.LND.EL5M.ZS   \n",
              "freq             58           58             233   \n",
              "\n",
              "                                Series name  SCALE  Decimals   1990   1991  \\\n",
              "count                                 13512  13512     13512  10017  10017   \n",
              "unique                                   58      2         3   4355   3398   \n",
              "top     Land area below 5m (% of land area)      0         1     ..     ..   \n",
              "freq                                    233  10017      5823   5163   6520   \n",
              "\n",
              "         1992   1993  ...   2002   2003   2004   2005   2006   2007   2008  \\\n",
              "count   10017  10017  ...  10017  10017  10017  10017  10017  10017  10017   \n",
              "unique   3523   3583  ...   3877   3869   4007   4484   4008   4047   4080   \n",
              "top        ..     ..  ...     ..     ..     ..     ..     ..     ..     ..   \n",
              "freq     6364   6300  ...   5960   5974   5792   4933   5781   5769   5414   \n",
              "\n",
              "         2009   2010   2011  \n",
              "count   10017  10017  12382  \n",
              "unique   3506   2164   1434  \n",
              "top        ..     ..     ..  \n",
              "freq     6256   7685  10244  \n",
              "\n",
              "[4 rows x 28 columns]"
            ],
            "text/html": [
              "\n",
              "  <div id=\"df-e37c750d-2136-417f-8a8a-9fc418a34a77\">\n",
              "    <div class=\"colab-df-container\">\n",
              "      <div>\n",
              "<style scoped>\n",
              "    .dataframe tbody tr th:only-of-type {\n",
              "        vertical-align: middle;\n",
              "    }\n",
              "\n",
              "    .dataframe tbody tr th {\n",
              "        vertical-align: top;\n",
              "    }\n",
              "\n",
              "    .dataframe thead th {\n",
              "        text-align: right;\n",
              "    }\n",
              "</style>\n",
              "<table border=\"1\" class=\"dataframe\">\n",
              "  <thead>\n",
              "    <tr style=\"text-align: right;\">\n",
              "      <th></th>\n",
              "      <th>Country code</th>\n",
              "      <th>Country name</th>\n",
              "      <th>Series code</th>\n",
              "      <th>Series name</th>\n",
              "      <th>SCALE</th>\n",
              "      <th>Decimals</th>\n",
              "      <th>1990</th>\n",
              "      <th>1991</th>\n",
              "      <th>1992</th>\n",
              "      <th>1993</th>\n",
              "      <th>...</th>\n",
              "      <th>2002</th>\n",
              "      <th>2003</th>\n",
              "      <th>2004</th>\n",
              "      <th>2005</th>\n",
              "      <th>2006</th>\n",
              "      <th>2007</th>\n",
              "      <th>2008</th>\n",
              "      <th>2009</th>\n",
              "      <th>2010</th>\n",
              "      <th>2011</th>\n",
              "    </tr>\n",
              "  </thead>\n",
              "  <tbody>\n",
              "    <tr>\n",
              "      <th>count</th>\n",
              "      <td>13512</td>\n",
              "      <td>13512</td>\n",
              "      <td>13512</td>\n",
              "      <td>13512</td>\n",
              "      <td>13512</td>\n",
              "      <td>13512</td>\n",
              "      <td>10017</td>\n",
              "      <td>10017</td>\n",
              "      <td>10017</td>\n",
              "      <td>10017</td>\n",
              "      <td>...</td>\n",
              "      <td>10017</td>\n",
              "      <td>10017</td>\n",
              "      <td>10017</td>\n",
              "      <td>10017</td>\n",
              "      <td>10017</td>\n",
              "      <td>10017</td>\n",
              "      <td>10017</td>\n",
              "      <td>10017</td>\n",
              "      <td>10017</td>\n",
              "      <td>12382</td>\n",
              "    </tr>\n",
              "    <tr>\n",
              "      <th>unique</th>\n",
              "      <td>233</td>\n",
              "      <td>233</td>\n",
              "      <td>58</td>\n",
              "      <td>58</td>\n",
              "      <td>2</td>\n",
              "      <td>3</td>\n",
              "      <td>4355</td>\n",
              "      <td>3398</td>\n",
              "      <td>3523</td>\n",
              "      <td>3583</td>\n",
              "      <td>...</td>\n",
              "      <td>3877</td>\n",
              "      <td>3869</td>\n",
              "      <td>4007</td>\n",
              "      <td>4484</td>\n",
              "      <td>4008</td>\n",
              "      <td>4047</td>\n",
              "      <td>4080</td>\n",
              "      <td>3506</td>\n",
              "      <td>2164</td>\n",
              "      <td>1434</td>\n",
              "    </tr>\n",
              "    <tr>\n",
              "      <th>top</th>\n",
              "      <td>ABW</td>\n",
              "      <td>Aruba</td>\n",
              "      <td>AG.LND.EL5M.ZS</td>\n",
              "      <td>Land area below 5m (% of land area)</td>\n",
              "      <td>0</td>\n",
              "      <td>1</td>\n",
              "      <td>..</td>\n",
              "      <td>..</td>\n",
              "      <td>..</td>\n",
              "      <td>..</td>\n",
              "      <td>...</td>\n",
              "      <td>..</td>\n",
              "      <td>..</td>\n",
              "      <td>..</td>\n",
              "      <td>..</td>\n",
              "      <td>..</td>\n",
              "      <td>..</td>\n",
              "      <td>..</td>\n",
              "      <td>..</td>\n",
              "      <td>..</td>\n",
              "      <td>..</td>\n",
              "    </tr>\n",
              "    <tr>\n",
              "      <th>freq</th>\n",
              "      <td>58</td>\n",
              "      <td>58</td>\n",
              "      <td>233</td>\n",
              "      <td>233</td>\n",
              "      <td>10017</td>\n",
              "      <td>5823</td>\n",
              "      <td>5163</td>\n",
              "      <td>6520</td>\n",
              "      <td>6364</td>\n",
              "      <td>6300</td>\n",
              "      <td>...</td>\n",
              "      <td>5960</td>\n",
              "      <td>5974</td>\n",
              "      <td>5792</td>\n",
              "      <td>4933</td>\n",
              "      <td>5781</td>\n",
              "      <td>5769</td>\n",
              "      <td>5414</td>\n",
              "      <td>6256</td>\n",
              "      <td>7685</td>\n",
              "      <td>10244</td>\n",
              "    </tr>\n",
              "  </tbody>\n",
              "</table>\n",
              "<p>4 rows × 28 columns</p>\n",
              "</div>\n",
              "      <button class=\"colab-df-convert\" onclick=\"convertToInteractive('df-e37c750d-2136-417f-8a8a-9fc418a34a77')\"\n",
              "              title=\"Convert this dataframe to an interactive table.\"\n",
              "              style=\"display:none;\">\n",
              "        \n",
              "  <svg xmlns=\"http://www.w3.org/2000/svg\" height=\"24px\"viewBox=\"0 0 24 24\"\n",
              "       width=\"24px\">\n",
              "    <path d=\"M0 0h24v24H0V0z\" fill=\"none\"/>\n",
              "    <path d=\"M18.56 5.44l.94 2.06.94-2.06 2.06-.94-2.06-.94-.94-2.06-.94 2.06-2.06.94zm-11 1L8.5 8.5l.94-2.06 2.06-.94-2.06-.94L8.5 2.5l-.94 2.06-2.06.94zm10 10l.94 2.06.94-2.06 2.06-.94-2.06-.94-.94-2.06-.94 2.06-2.06.94z\"/><path d=\"M17.41 7.96l-1.37-1.37c-.4-.4-.92-.59-1.43-.59-.52 0-1.04.2-1.43.59L10.3 9.45l-7.72 7.72c-.78.78-.78 2.05 0 2.83L4 21.41c.39.39.9.59 1.41.59.51 0 1.02-.2 1.41-.59l7.78-7.78 2.81-2.81c.8-.78.8-2.07 0-2.86zM5.41 20L4 18.59l7.72-7.72 1.47 1.35L5.41 20z\"/>\n",
              "  </svg>\n",
              "      </button>\n",
              "      \n",
              "  <style>\n",
              "    .colab-df-container {\n",
              "      display:flex;\n",
              "      flex-wrap:wrap;\n",
              "      gap: 12px;\n",
              "    }\n",
              "\n",
              "    .colab-df-convert {\n",
              "      background-color: #E8F0FE;\n",
              "      border: none;\n",
              "      border-radius: 50%;\n",
              "      cursor: pointer;\n",
              "      display: none;\n",
              "      fill: #1967D2;\n",
              "      height: 32px;\n",
              "      padding: 0 0 0 0;\n",
              "      width: 32px;\n",
              "    }\n",
              "\n",
              "    .colab-df-convert:hover {\n",
              "      background-color: #E2EBFA;\n",
              "      box-shadow: 0px 1px 2px rgba(60, 64, 67, 0.3), 0px 1px 3px 1px rgba(60, 64, 67, 0.15);\n",
              "      fill: #174EA6;\n",
              "    }\n",
              "\n",
              "    [theme=dark] .colab-df-convert {\n",
              "      background-color: #3B4455;\n",
              "      fill: #D2E3FC;\n",
              "    }\n",
              "\n",
              "    [theme=dark] .colab-df-convert:hover {\n",
              "      background-color: #434B5C;\n",
              "      box-shadow: 0px 1px 3px 1px rgba(0, 0, 0, 0.15);\n",
              "      filter: drop-shadow(0px 1px 2px rgba(0, 0, 0, 0.3));\n",
              "      fill: #FFFFFF;\n",
              "    }\n",
              "  </style>\n",
              "\n",
              "      <script>\n",
              "        const buttonEl =\n",
              "          document.querySelector('#df-e37c750d-2136-417f-8a8a-9fc418a34a77 button.colab-df-convert');\n",
              "        buttonEl.style.display =\n",
              "          google.colab.kernel.accessAllowed ? 'block' : 'none';\n",
              "\n",
              "        async function convertToInteractive(key) {\n",
              "          const element = document.querySelector('#df-e37c750d-2136-417f-8a8a-9fc418a34a77');\n",
              "          const dataTable =\n",
              "            await google.colab.kernel.invokeFunction('convertToInteractive',\n",
              "                                                     [key], {});\n",
              "          if (!dataTable) return;\n",
              "\n",
              "          const docLinkHtml = 'Like what you see? Visit the ' +\n",
              "            '<a target=\"_blank\" href=https://colab.research.google.com/notebooks/data_table.ipynb>data table notebook</a>'\n",
              "            + ' to learn more about interactive tables.';\n",
              "          element.innerHTML = '';\n",
              "          dataTable['output_type'] = 'display_data';\n",
              "          await google.colab.output.renderOutput(dataTable, element);\n",
              "          const docLink = document.createElement('div');\n",
              "          docLink.innerHTML = docLinkHtml;\n",
              "          element.appendChild(docLink);\n",
              "        }\n",
              "      </script>\n",
              "    </div>\n",
              "  </div>\n",
              "  "
            ]
          },
          "metadata": {},
          "execution_count": 9
        }
      ]
    },
    {
      "cell_type": "markdown",
      "source": [
        "To better understand the nature of the \"Serial Code\", \"Serial Name\", \"SCALE\" and \"Decimal\" columns, it is necessary to examine their values."
      ],
      "metadata": {
        "id": "ab8Adlo23ZaL"
      }
    },
    {
      "cell_type": "markdown",
      "source": [
        "The next fragment prints the contents of the 'Series Name' column:"
      ],
      "metadata": {
        "id": "UqmDjyzE3qOK"
      }
    },
    {
      "cell_type": "code",
      "source": [
        "df['Series name'].unique()"
      ],
      "metadata": {
        "colab": {
          "base_uri": "https://localhost:8080/"
        },
        "id": "MHkCan7s3cgI",
        "outputId": "4380231c-4f0b-48c5-dca2-8e302bac812b"
      },
      "execution_count": 10,
      "outputs": [
        {
          "output_type": "execute_result",
          "data": {
            "text/plain": [
              "array(['Land area below 5m (% of land area)',\n",
              "       'Agricultural land under irrigation (% of total ag. land)',\n",
              "       'Cereal yield (kg per hectare)',\n",
              "       'Foreign direct investment, net inflows (% of GDP)',\n",
              "       'Access to electricity (% of total population)',\n",
              "       'Energy use per units of GDP (kg oil eq./$1,000 of 2005 PPP $)',\n",
              "       'Energy use per capita (kilograms of oil equivalent)',\n",
              "       'CO2 emissions, total (KtCO2)',\n",
              "       'CO2 emissions per capita (metric tons)',\n",
              "       'CO2 emissions per units of GDP (kg/$1,000 of 2005 PPP $)',\n",
              "       'Other GHG emissions, total (KtCO2e)',\n",
              "       'Methane (CH4) emissions, total (KtCO2e)',\n",
              "       'Nitrous oxide (N2O) emissions, total (KtCO2e)',\n",
              "       'Annex-I emissions reduction target',\n",
              "       'Disaster risk reduction progress score (1-5 scale; 5=best)',\n",
              "       'GHG net emissions/removals by LUCF (MtCO2e)',\n",
              "       'Hosted Clean Development Mechanism (CDM) projects',\n",
              "       'Hosted Joint Implementation (JI) projects',\n",
              "       'Average annual precipitation (1961-1990, mm)',\n",
              "       'Issued Certified Emission Reductions (CERs) from CDM (thousands)',\n",
              "       'Issued Emission Reduction Units (ERUs) from JI (thousands)',\n",
              "       'Droughts, floods, extreme temps (% pop. avg. 1990-2009)',\n",
              "       'Average daily min/max temperature (1961-1990, Celsius)',\n",
              "       'NAMA submission', 'NAPA submission',\n",
              "       'Latest UNFCCC national communication',\n",
              "       'Projected annual temperature change (2045-2065, Celsius)',\n",
              "       'Projected change in annual cool days/cold nights',\n",
              "       'Projected change in annual hot days/warm nights',\n",
              "       'Projected annual precipitation change (2045-2065, mm)',\n",
              "       'Renewable energy target', 'Population below 5m (% of total)',\n",
              "       'Population in urban agglomerations >1million (%)',\n",
              "       'Annual freshwater withdrawals (% of internal resources)',\n",
              "       'Nationally terrestrial protected areas (% of total land area)',\n",
              "       'Ease of doing business (ranking 1-183; 1=best)',\n",
              "       'Invest. in energy w/ private participation ($)',\n",
              "       'Invest. in telecoms w/ private participation ($)',\n",
              "       'Invest. in transport w/ private participation ($)',\n",
              "       'Invest. in water/sanit. w/ private participation ($)',\n",
              "       'Public sector mgmt & institutions avg. (1-6 scale; 6=best)',\n",
              "       'Paved roads (% of total roads)', 'GDP ($)',\n",
              "       'GNI per capita (Atlas $)',\n",
              "       'Ratio of girls to boys in primary & secondary school (%)',\n",
              "       'Primary completion rate, total (% of relevant age group)',\n",
              "       'Under-five mortality rate (per 1,000)',\n",
              "       'Access to improved water source (% of total pop.)',\n",
              "       'Nurses and midwives (per 1,000 people)',\n",
              "       'Physicians (per 1,000 people)',\n",
              "       'Malaria incidence rate (per 100,000 people)',\n",
              "       'Access to improved sanitation (% of total pop.)',\n",
              "       'Child malnutrition, underweight (% of under age 5)',\n",
              "       'Population living below $1.25 a day (% of total)',\n",
              "       'Population growth (annual %)', 'Population',\n",
              "       'Urban population growth (annual %)', 'Urban population'],\n",
              "      dtype=object)"
            ]
          },
          "metadata": {},
          "execution_count": 10
        }
      ]
    },
    {
      "cell_type": "markdown",
      "source": [
        "Contents of the column Series code"
      ],
      "metadata": {
        "id": "yIzWsREpaV7h"
      }
    },
    {
      "cell_type": "code",
      "source": [
        "df['Series code'].unique()"
      ],
      "metadata": {
        "colab": {
          "base_uri": "https://localhost:8080/"
        },
        "id": "HIcNEXuxaeD0",
        "outputId": "e31cfa7e-a8ee-4da7-8e1b-7dd46c9ff42b"
      },
      "execution_count": 11,
      "outputs": [
        {
          "output_type": "execute_result",
          "data": {
            "text/plain": [
              "array(['AG.LND.EL5M.ZS', 'AG.LND.IRIG.AG.ZS', 'AG.YLD.CREL.KG',\n",
              "       'BX.KLT.DINV.WD.GD.ZS', 'EG.ELC.ACCS.ZS', 'EG.USE.COMM.GD.PP.KD',\n",
              "       'EG.USE.PCAP.KG.OE', 'EN.ATM.CO2E.KT', 'EN.ATM.CO2E.PC',\n",
              "       'EN.ATM.CO2E.PP.GD.KD', 'EN.ATM.GHGO.KT.CE', 'EN.ATM.METH.KT.CE',\n",
              "       'EN.ATM.NOXE.KT.CE', 'EN.CLC.AERT', 'EN.CLC.DRSK.XQ',\n",
              "       'EN.CLC.GHGR.MT.CE', 'EN.CLC.HCDM', 'EN.CLC.HJIP',\n",
              "       'EN.CLC.HPPT.MM', 'EN.CLC.ICER', 'EN.CLC.IERU', 'EN.CLC.MDAT.ZS',\n",
              "       'EN.CLC.MMDT.C', 'EN.CLC.NAMA', 'EN.CLC.NAPA', 'EN.CLC.NCOM',\n",
              "       'EN.CLC.PCAT.C', 'EN.CLC.PCCC', 'EN.CLC.PCHW', 'EN.CLC.PCPT.MM',\n",
              "       'EN.CLC.RNET', 'EN.POP.EL5M.ZS', 'EN.URB.MCTY.TL.ZS',\n",
              "       'ER.H2O.FWTL.ZS', 'ER.LND.PTLD.ZS', 'IC.BUS.EASE.XQ',\n",
              "       'IE.PPI.ENGY.CD', 'IE.PPI.TELE.CD', 'IE.PPI.TRAN.CD',\n",
              "       'IE.PPI.WATR.CD', 'IQ.CPA.PUBS.XQ', 'IS.ROD.PAVE.ZS',\n",
              "       'NY.GDP.MKTP.CD', 'NY.GNP.PCAP.CD', 'SE.ENR.PRSC.FM.ZS',\n",
              "       'SE.PRM.CMPT.ZS', 'SH.DYN.MORT', 'SH.H2O.SAFE.ZS',\n",
              "       'SH.MED.NUMW.P3', 'SH.MED.PHYS.ZS', 'SH.MLR.INCD', 'SH.STA.ACSN',\n",
              "       'SH.STA.MALN.ZS', 'SI.POV.DDAY', 'SP.POP.GROW', 'SP.POP.TOTL',\n",
              "       'SP.URB.GROW', 'SP.URB.TOTL'], dtype=object)"
            ]
          },
          "metadata": {},
          "execution_count": 11
        }
      ]
    },
    {
      "cell_type": "markdown",
      "source": [
        "Contents of the column 'SCALE':"
      ],
      "metadata": {
        "id": "5zeZ3klCcxlI"
      }
    },
    {
      "cell_type": "code",
      "source": [
        "df['SCALE'].unique()"
      ],
      "metadata": {
        "colab": {
          "base_uri": "https://localhost:8080/"
        },
        "id": "XSwKmhFMc1w-",
        "outputId": "602556a3-7dcc-4ac2-c143-19ecc4aac3fe"
      },
      "execution_count": 12,
      "outputs": [
        {
          "output_type": "execute_result",
          "data": {
            "text/plain": [
              "array([0, 'Text'], dtype=object)"
            ]
          },
          "metadata": {},
          "execution_count": 12
        }
      ]
    },
    {
      "cell_type": "markdown",
      "source": [
        "Contents of the column 'Decimals':"
      ],
      "metadata": {
        "id": "akrpHtCOc8jz"
      }
    },
    {
      "cell_type": "code",
      "source": [
        "df['Decimals'].unique()"
      ],
      "metadata": {
        "colab": {
          "base_uri": "https://localhost:8080/"
        },
        "id": "fDHoqeifdHDV",
        "outputId": "6964dbd4-58ac-4be5-8662-d0475e4e697c"
      },
      "execution_count": 13,
      "outputs": [
        {
          "output_type": "execute_result",
          "data": {
            "text/plain": [
              "array([1, 0, 'Text'], dtype=object)"
            ]
          },
          "metadata": {},
          "execution_count": 13
        }
      ]
    },
    {
      "cell_type": "markdown",
      "source": [
        "At this time it is not clear which values are marked with the 'Text' label in the 'SCALE' and 'Decimals' columns. These are shown in the following tow outputs:"
      ],
      "metadata": {
        "id": "gKtqW3e0dlGH"
      }
    },
    {
      "cell_type": "code",
      "source": [
        "df[df['SCALE']=='Text']"
      ],
      "metadata": {
        "colab": {
          "base_uri": "https://localhost:8080/",
          "height": 939
        },
        "id": "NS781rCQdoD-",
        "outputId": "55c27043-a38c-4110-eabe-56e2e5dae9f2"
      },
      "execution_count": 14,
      "outputs": [
        {
          "output_type": "execute_result",
          "data": {
            "text/plain": [
              "     Country code      Country name  Series code  \\\n",
              "3029          ABW             Aruba  EN.CLC.AERT   \n",
              "3030          ADO           Andorra  EN.CLC.AERT   \n",
              "3031          AFG       Afghanistan  EN.CLC.AERT   \n",
              "3032          AGO            Angola  EN.CLC.AERT   \n",
              "3033          ALB           Albania  EN.CLC.AERT   \n",
              "...           ...               ...          ...   \n",
              "7218          YEM       Yemen, Rep.  EN.CLC.RNET   \n",
              "7219          ZAF      South Africa  EN.CLC.RNET   \n",
              "7220          ZAR  Congo, Dem. Rep.  EN.CLC.RNET   \n",
              "7221          ZMB            Zambia  EN.CLC.RNET   \n",
              "7222          ZWE          Zimbabwe  EN.CLC.RNET   \n",
              "\n",
              "                             Series name SCALE Decimals 1990 1991 1992 1993  \\\n",
              "3029  Annex-I emissions reduction target  Text     Text  NaN  NaN  NaN  NaN   \n",
              "3030  Annex-I emissions reduction target  Text     Text  NaN  NaN  NaN  NaN   \n",
              "3031  Annex-I emissions reduction target  Text     Text  NaN  NaN  NaN  NaN   \n",
              "3032  Annex-I emissions reduction target  Text     Text  NaN  NaN  NaN  NaN   \n",
              "3033  Annex-I emissions reduction target  Text     Text  NaN  NaN  NaN  NaN   \n",
              "...                                  ...   ...      ...  ...  ...  ...  ...   \n",
              "7218             Renewable energy target  Text     Text  NaN  NaN  NaN  NaN   \n",
              "7219             Renewable energy target  Text     Text  NaN  NaN  NaN  NaN   \n",
              "7220             Renewable energy target  Text     Text  NaN  NaN  NaN  NaN   \n",
              "7221             Renewable energy target  Text     Text  NaN  NaN  NaN  NaN   \n",
              "7222             Renewable energy target  Text     Text  NaN  NaN  NaN  NaN   \n",
              "\n",
              "      ... 2002 2003 2004 2005 2006 2007 2008 2009 2010 2011  \n",
              "3029  ...  NaN  NaN  NaN  NaN  NaN  NaN  NaN  NaN  NaN  NaN  \n",
              "3030  ...  NaN  NaN  NaN  NaN  NaN  NaN  NaN  NaN  NaN  NaN  \n",
              "3031  ...  NaN  NaN  NaN  NaN  NaN  NaN  NaN  NaN  NaN  NaN  \n",
              "3032  ...  NaN  NaN  NaN  NaN  NaN  NaN  NaN  NaN  NaN  NaN  \n",
              "3033  ...  NaN  NaN  NaN  NaN  NaN  NaN  NaN  NaN  NaN  NaN  \n",
              "...   ...  ...  ...  ...  ...  ...  ...  ...  ...  ...  ...  \n",
              "7218  ...  NaN  NaN  NaN  NaN  NaN  NaN  NaN  NaN  NaN   ..  \n",
              "7219  ...  NaN  NaN  NaN  NaN  NaN  NaN  NaN  NaN  NaN  Yes  \n",
              "7220  ...  NaN  NaN  NaN  NaN  NaN  NaN  NaN  NaN  NaN   ..  \n",
              "7221  ...  NaN  NaN  NaN  NaN  NaN  NaN  NaN  NaN  NaN   ..  \n",
              "7222  ...  NaN  NaN  NaN  NaN  NaN  NaN  NaN  NaN  NaN   ..  \n",
              "\n",
              "[3495 rows x 28 columns]"
            ],
            "text/html": [
              "\n",
              "  <div id=\"df-b943e000-bac7-4204-8278-c462bc3b9526\">\n",
              "    <div class=\"colab-df-container\">\n",
              "      <div>\n",
              "<style scoped>\n",
              "    .dataframe tbody tr th:only-of-type {\n",
              "        vertical-align: middle;\n",
              "    }\n",
              "\n",
              "    .dataframe tbody tr th {\n",
              "        vertical-align: top;\n",
              "    }\n",
              "\n",
              "    .dataframe thead th {\n",
              "        text-align: right;\n",
              "    }\n",
              "</style>\n",
              "<table border=\"1\" class=\"dataframe\">\n",
              "  <thead>\n",
              "    <tr style=\"text-align: right;\">\n",
              "      <th></th>\n",
              "      <th>Country code</th>\n",
              "      <th>Country name</th>\n",
              "      <th>Series code</th>\n",
              "      <th>Series name</th>\n",
              "      <th>SCALE</th>\n",
              "      <th>Decimals</th>\n",
              "      <th>1990</th>\n",
              "      <th>1991</th>\n",
              "      <th>1992</th>\n",
              "      <th>1993</th>\n",
              "      <th>...</th>\n",
              "      <th>2002</th>\n",
              "      <th>2003</th>\n",
              "      <th>2004</th>\n",
              "      <th>2005</th>\n",
              "      <th>2006</th>\n",
              "      <th>2007</th>\n",
              "      <th>2008</th>\n",
              "      <th>2009</th>\n",
              "      <th>2010</th>\n",
              "      <th>2011</th>\n",
              "    </tr>\n",
              "  </thead>\n",
              "  <tbody>\n",
              "    <tr>\n",
              "      <th>3029</th>\n",
              "      <td>ABW</td>\n",
              "      <td>Aruba</td>\n",
              "      <td>EN.CLC.AERT</td>\n",
              "      <td>Annex-I emissions reduction target</td>\n",
              "      <td>Text</td>\n",
              "      <td>Text</td>\n",
              "      <td>NaN</td>\n",
              "      <td>NaN</td>\n",
              "      <td>NaN</td>\n",
              "      <td>NaN</td>\n",
              "      <td>...</td>\n",
              "      <td>NaN</td>\n",
              "      <td>NaN</td>\n",
              "      <td>NaN</td>\n",
              "      <td>NaN</td>\n",
              "      <td>NaN</td>\n",
              "      <td>NaN</td>\n",
              "      <td>NaN</td>\n",
              "      <td>NaN</td>\n",
              "      <td>NaN</td>\n",
              "      <td>NaN</td>\n",
              "    </tr>\n",
              "    <tr>\n",
              "      <th>3030</th>\n",
              "      <td>ADO</td>\n",
              "      <td>Andorra</td>\n",
              "      <td>EN.CLC.AERT</td>\n",
              "      <td>Annex-I emissions reduction target</td>\n",
              "      <td>Text</td>\n",
              "      <td>Text</td>\n",
              "      <td>NaN</td>\n",
              "      <td>NaN</td>\n",
              "      <td>NaN</td>\n",
              "      <td>NaN</td>\n",
              "      <td>...</td>\n",
              "      <td>NaN</td>\n",
              "      <td>NaN</td>\n",
              "      <td>NaN</td>\n",
              "      <td>NaN</td>\n",
              "      <td>NaN</td>\n",
              "      <td>NaN</td>\n",
              "      <td>NaN</td>\n",
              "      <td>NaN</td>\n",
              "      <td>NaN</td>\n",
              "      <td>NaN</td>\n",
              "    </tr>\n",
              "    <tr>\n",
              "      <th>3031</th>\n",
              "      <td>AFG</td>\n",
              "      <td>Afghanistan</td>\n",
              "      <td>EN.CLC.AERT</td>\n",
              "      <td>Annex-I emissions reduction target</td>\n",
              "      <td>Text</td>\n",
              "      <td>Text</td>\n",
              "      <td>NaN</td>\n",
              "      <td>NaN</td>\n",
              "      <td>NaN</td>\n",
              "      <td>NaN</td>\n",
              "      <td>...</td>\n",
              "      <td>NaN</td>\n",
              "      <td>NaN</td>\n",
              "      <td>NaN</td>\n",
              "      <td>NaN</td>\n",
              "      <td>NaN</td>\n",
              "      <td>NaN</td>\n",
              "      <td>NaN</td>\n",
              "      <td>NaN</td>\n",
              "      <td>NaN</td>\n",
              "      <td>NaN</td>\n",
              "    </tr>\n",
              "    <tr>\n",
              "      <th>3032</th>\n",
              "      <td>AGO</td>\n",
              "      <td>Angola</td>\n",
              "      <td>EN.CLC.AERT</td>\n",
              "      <td>Annex-I emissions reduction target</td>\n",
              "      <td>Text</td>\n",
              "      <td>Text</td>\n",
              "      <td>NaN</td>\n",
              "      <td>NaN</td>\n",
              "      <td>NaN</td>\n",
              "      <td>NaN</td>\n",
              "      <td>...</td>\n",
              "      <td>NaN</td>\n",
              "      <td>NaN</td>\n",
              "      <td>NaN</td>\n",
              "      <td>NaN</td>\n",
              "      <td>NaN</td>\n",
              "      <td>NaN</td>\n",
              "      <td>NaN</td>\n",
              "      <td>NaN</td>\n",
              "      <td>NaN</td>\n",
              "      <td>NaN</td>\n",
              "    </tr>\n",
              "    <tr>\n",
              "      <th>3033</th>\n",
              "      <td>ALB</td>\n",
              "      <td>Albania</td>\n",
              "      <td>EN.CLC.AERT</td>\n",
              "      <td>Annex-I emissions reduction target</td>\n",
              "      <td>Text</td>\n",
              "      <td>Text</td>\n",
              "      <td>NaN</td>\n",
              "      <td>NaN</td>\n",
              "      <td>NaN</td>\n",
              "      <td>NaN</td>\n",
              "      <td>...</td>\n",
              "      <td>NaN</td>\n",
              "      <td>NaN</td>\n",
              "      <td>NaN</td>\n",
              "      <td>NaN</td>\n",
              "      <td>NaN</td>\n",
              "      <td>NaN</td>\n",
              "      <td>NaN</td>\n",
              "      <td>NaN</td>\n",
              "      <td>NaN</td>\n",
              "      <td>NaN</td>\n",
              "    </tr>\n",
              "    <tr>\n",
              "      <th>...</th>\n",
              "      <td>...</td>\n",
              "      <td>...</td>\n",
              "      <td>...</td>\n",
              "      <td>...</td>\n",
              "      <td>...</td>\n",
              "      <td>...</td>\n",
              "      <td>...</td>\n",
              "      <td>...</td>\n",
              "      <td>...</td>\n",
              "      <td>...</td>\n",
              "      <td>...</td>\n",
              "      <td>...</td>\n",
              "      <td>...</td>\n",
              "      <td>...</td>\n",
              "      <td>...</td>\n",
              "      <td>...</td>\n",
              "      <td>...</td>\n",
              "      <td>...</td>\n",
              "      <td>...</td>\n",
              "      <td>...</td>\n",
              "      <td>...</td>\n",
              "    </tr>\n",
              "    <tr>\n",
              "      <th>7218</th>\n",
              "      <td>YEM</td>\n",
              "      <td>Yemen, Rep.</td>\n",
              "      <td>EN.CLC.RNET</td>\n",
              "      <td>Renewable energy target</td>\n",
              "      <td>Text</td>\n",
              "      <td>Text</td>\n",
              "      <td>NaN</td>\n",
              "      <td>NaN</td>\n",
              "      <td>NaN</td>\n",
              "      <td>NaN</td>\n",
              "      <td>...</td>\n",
              "      <td>NaN</td>\n",
              "      <td>NaN</td>\n",
              "      <td>NaN</td>\n",
              "      <td>NaN</td>\n",
              "      <td>NaN</td>\n",
              "      <td>NaN</td>\n",
              "      <td>NaN</td>\n",
              "      <td>NaN</td>\n",
              "      <td>NaN</td>\n",
              "      <td>..</td>\n",
              "    </tr>\n",
              "    <tr>\n",
              "      <th>7219</th>\n",
              "      <td>ZAF</td>\n",
              "      <td>South Africa</td>\n",
              "      <td>EN.CLC.RNET</td>\n",
              "      <td>Renewable energy target</td>\n",
              "      <td>Text</td>\n",
              "      <td>Text</td>\n",
              "      <td>NaN</td>\n",
              "      <td>NaN</td>\n",
              "      <td>NaN</td>\n",
              "      <td>NaN</td>\n",
              "      <td>...</td>\n",
              "      <td>NaN</td>\n",
              "      <td>NaN</td>\n",
              "      <td>NaN</td>\n",
              "      <td>NaN</td>\n",
              "      <td>NaN</td>\n",
              "      <td>NaN</td>\n",
              "      <td>NaN</td>\n",
              "      <td>NaN</td>\n",
              "      <td>NaN</td>\n",
              "      <td>Yes</td>\n",
              "    </tr>\n",
              "    <tr>\n",
              "      <th>7220</th>\n",
              "      <td>ZAR</td>\n",
              "      <td>Congo, Dem. Rep.</td>\n",
              "      <td>EN.CLC.RNET</td>\n",
              "      <td>Renewable energy target</td>\n",
              "      <td>Text</td>\n",
              "      <td>Text</td>\n",
              "      <td>NaN</td>\n",
              "      <td>NaN</td>\n",
              "      <td>NaN</td>\n",
              "      <td>NaN</td>\n",
              "      <td>...</td>\n",
              "      <td>NaN</td>\n",
              "      <td>NaN</td>\n",
              "      <td>NaN</td>\n",
              "      <td>NaN</td>\n",
              "      <td>NaN</td>\n",
              "      <td>NaN</td>\n",
              "      <td>NaN</td>\n",
              "      <td>NaN</td>\n",
              "      <td>NaN</td>\n",
              "      <td>..</td>\n",
              "    </tr>\n",
              "    <tr>\n",
              "      <th>7221</th>\n",
              "      <td>ZMB</td>\n",
              "      <td>Zambia</td>\n",
              "      <td>EN.CLC.RNET</td>\n",
              "      <td>Renewable energy target</td>\n",
              "      <td>Text</td>\n",
              "      <td>Text</td>\n",
              "      <td>NaN</td>\n",
              "      <td>NaN</td>\n",
              "      <td>NaN</td>\n",
              "      <td>NaN</td>\n",
              "      <td>...</td>\n",
              "      <td>NaN</td>\n",
              "      <td>NaN</td>\n",
              "      <td>NaN</td>\n",
              "      <td>NaN</td>\n",
              "      <td>NaN</td>\n",
              "      <td>NaN</td>\n",
              "      <td>NaN</td>\n",
              "      <td>NaN</td>\n",
              "      <td>NaN</td>\n",
              "      <td>..</td>\n",
              "    </tr>\n",
              "    <tr>\n",
              "      <th>7222</th>\n",
              "      <td>ZWE</td>\n",
              "      <td>Zimbabwe</td>\n",
              "      <td>EN.CLC.RNET</td>\n",
              "      <td>Renewable energy target</td>\n",
              "      <td>Text</td>\n",
              "      <td>Text</td>\n",
              "      <td>NaN</td>\n",
              "      <td>NaN</td>\n",
              "      <td>NaN</td>\n",
              "      <td>NaN</td>\n",
              "      <td>...</td>\n",
              "      <td>NaN</td>\n",
              "      <td>NaN</td>\n",
              "      <td>NaN</td>\n",
              "      <td>NaN</td>\n",
              "      <td>NaN</td>\n",
              "      <td>NaN</td>\n",
              "      <td>NaN</td>\n",
              "      <td>NaN</td>\n",
              "      <td>NaN</td>\n",
              "      <td>..</td>\n",
              "    </tr>\n",
              "  </tbody>\n",
              "</table>\n",
              "<p>3495 rows × 28 columns</p>\n",
              "</div>\n",
              "      <button class=\"colab-df-convert\" onclick=\"convertToInteractive('df-b943e000-bac7-4204-8278-c462bc3b9526')\"\n",
              "              title=\"Convert this dataframe to an interactive table.\"\n",
              "              style=\"display:none;\">\n",
              "        \n",
              "  <svg xmlns=\"http://www.w3.org/2000/svg\" height=\"24px\"viewBox=\"0 0 24 24\"\n",
              "       width=\"24px\">\n",
              "    <path d=\"M0 0h24v24H0V0z\" fill=\"none\"/>\n",
              "    <path d=\"M18.56 5.44l.94 2.06.94-2.06 2.06-.94-2.06-.94-.94-2.06-.94 2.06-2.06.94zm-11 1L8.5 8.5l.94-2.06 2.06-.94-2.06-.94L8.5 2.5l-.94 2.06-2.06.94zm10 10l.94 2.06.94-2.06 2.06-.94-2.06-.94-.94-2.06-.94 2.06-2.06.94z\"/><path d=\"M17.41 7.96l-1.37-1.37c-.4-.4-.92-.59-1.43-.59-.52 0-1.04.2-1.43.59L10.3 9.45l-7.72 7.72c-.78.78-.78 2.05 0 2.83L4 21.41c.39.39.9.59 1.41.59.51 0 1.02-.2 1.41-.59l7.78-7.78 2.81-2.81c.8-.78.8-2.07 0-2.86zM5.41 20L4 18.59l7.72-7.72 1.47 1.35L5.41 20z\"/>\n",
              "  </svg>\n",
              "      </button>\n",
              "      \n",
              "  <style>\n",
              "    .colab-df-container {\n",
              "      display:flex;\n",
              "      flex-wrap:wrap;\n",
              "      gap: 12px;\n",
              "    }\n",
              "\n",
              "    .colab-df-convert {\n",
              "      background-color: #E8F0FE;\n",
              "      border: none;\n",
              "      border-radius: 50%;\n",
              "      cursor: pointer;\n",
              "      display: none;\n",
              "      fill: #1967D2;\n",
              "      height: 32px;\n",
              "      padding: 0 0 0 0;\n",
              "      width: 32px;\n",
              "    }\n",
              "\n",
              "    .colab-df-convert:hover {\n",
              "      background-color: #E2EBFA;\n",
              "      box-shadow: 0px 1px 2px rgba(60, 64, 67, 0.3), 0px 1px 3px 1px rgba(60, 64, 67, 0.15);\n",
              "      fill: #174EA6;\n",
              "    }\n",
              "\n",
              "    [theme=dark] .colab-df-convert {\n",
              "      background-color: #3B4455;\n",
              "      fill: #D2E3FC;\n",
              "    }\n",
              "\n",
              "    [theme=dark] .colab-df-convert:hover {\n",
              "      background-color: #434B5C;\n",
              "      box-shadow: 0px 1px 3px 1px rgba(0, 0, 0, 0.15);\n",
              "      filter: drop-shadow(0px 1px 2px rgba(0, 0, 0, 0.3));\n",
              "      fill: #FFFFFF;\n",
              "    }\n",
              "  </style>\n",
              "\n",
              "      <script>\n",
              "        const buttonEl =\n",
              "          document.querySelector('#df-b943e000-bac7-4204-8278-c462bc3b9526 button.colab-df-convert');\n",
              "        buttonEl.style.display =\n",
              "          google.colab.kernel.accessAllowed ? 'block' : 'none';\n",
              "\n",
              "        async function convertToInteractive(key) {\n",
              "          const element = document.querySelector('#df-b943e000-bac7-4204-8278-c462bc3b9526');\n",
              "          const dataTable =\n",
              "            await google.colab.kernel.invokeFunction('convertToInteractive',\n",
              "                                                     [key], {});\n",
              "          if (!dataTable) return;\n",
              "\n",
              "          const docLinkHtml = 'Like what you see? Visit the ' +\n",
              "            '<a target=\"_blank\" href=https://colab.research.google.com/notebooks/data_table.ipynb>data table notebook</a>'\n",
              "            + ' to learn more about interactive tables.';\n",
              "          element.innerHTML = '';\n",
              "          dataTable['output_type'] = 'display_data';\n",
              "          await google.colab.output.renderOutput(dataTable, element);\n",
              "          const docLink = document.createElement('div');\n",
              "          docLink.innerHTML = docLinkHtml;\n",
              "          element.appendChild(docLink);\n",
              "        }\n",
              "      </script>\n",
              "    </div>\n",
              "  </div>\n",
              "  "
            ]
          },
          "metadata": {},
          "execution_count": 14
        }
      ]
    },
    {
      "cell_type": "markdown",
      "source": [
        "Findings from the global overview recap:"
      ],
      "metadata": {
        "id": "Rt4evlmd936k"
      }
    },
    {
      "cell_type": "markdown",
      "source": [
        "#3. Define the inital project goals\n"
      ],
      "metadata": {
        "id": "cw-W7UEd98U0"
      }
    },
    {
      "cell_type": "markdown",
      "source": [
        "The first overview of the raw data makes it possible to define the initial aims and objectives of the machine learning project. These will be refined going forward as additional information is derived from the data. However, this initial goal definition will help develop a strategy and organize the data cleaning, transformation and visualization.\n",
        "\n",
        "The data series available can be summarized into the following country-specific parameter/feature categories:\n",
        "\n",
        "\n",
        "*   various emissions of greenhouse gases \n",
        "*   population-specific parameters\n",
        "*   country economic indicators\n",
        "*   land-related parameters\n",
        "*   climate data\n",
        "*   etc\n",
        "\n",
        "Initial goal of the machine learning project: Analyze the relationships among these variable categories and evaluate the contribution of factors like country economy, energy use, land use, etc. on greenhouse gas emissions, precipitations, etc.\n",
        "\n",
        "\n",
        "\n"
      ],
      "metadata": {
        "id": "jgQ4H866eC1-"
      }
    },
    {
      "cell_type": "markdown",
      "source": [
        "#4. Data cleaning\n"
      ],
      "metadata": {
        "id": "xr3-L8KQfBvf"
      }
    },
    {
      "cell_type": "markdown",
      "source": [
        "Organization of the data cleaning and transformation\n",
        "\n",
        "The main purpose of data cleaning and transformation is to represent the characteristics (the country parameters contained in the column 'Series name') in separate columns and make each row identifiable by country and year. At the same time, it would make sense to transform the years into a single column.\n",
        "\n",
        "Additionally, it is necessary to get rid of empty rows or columns and deal with the remaining cells with missing values."
      ],
      "metadata": {
        "id": "WQ0reytDP7bF"
      }
    },
    {
      "cell_type": "markdown",
      "source": [
        "#4.1 Removing rows marked as \"Text\" in the \"SCALE\" and \"Decimals\" columns"
      ],
      "metadata": {
        "id": "28HpPUBHQ354"
      }
    },
    {
      "cell_type": "code",
      "source": [
        "# create new DataFrame in which the data will be modified\n",
        "data_clean=df\n",
        "\n",
        "print(\"Original number of rows:\")\n",
        "print(data_clean.shape[0])\n",
        "\n",
        "# remove rows characterized as \"Text\" in the SCALE column\n",
        "data_clean = data_clean[data_clean['SCALE']!= 'Text']\n",
        "\n",
        "print(\"Current number of rows:\")\n",
        "print(data_clean.shape[0])\n"
      ],
      "metadata": {
        "colab": {
          "base_uri": "https://localhost:8080/"
        },
        "id": "cHfbE0K6Q1KK",
        "outputId": "067211fc-87ea-4222-9751-f4bed4a24f16"
      },
      "execution_count": 15,
      "outputs": [
        {
          "output_type": "stream",
          "name": "stdout",
          "text": [
            "Original number of rows:\n",
            "13512\n",
            "Current number of rows:\n",
            "10017\n"
          ]
        }
      ]
    },
    {
      "cell_type": "markdown",
      "source": [
        "#4.2 Removing the unnecessary columns \"Country name\", \"Series code\", \"SCALE\", \"Decimals\""
      ],
      "metadata": {
        "id": "QtBjgNVvSEwj"
      }
    },
    {
      "cell_type": "code",
      "source": [
        "print(\"Original number of columns:\")\n",
        "print(data_clean.shape[1])\n",
        "\n",
        "data_clean = data_clean.drop(['Country name', 'Series code', 'SCALE', 'Decimals'], axis='columns')\n",
        "\n",
        "print(\"Current number of columns:\")\n",
        "print(data_clean.shape[1])"
      ],
      "metadata": {
        "colab": {
          "base_uri": "https://localhost:8080/"
        },
        "id": "eFtzZE7WSPeY",
        "outputId": "95706793-d7d3-4742-fec8-9509b85ec0c3"
      },
      "execution_count": 18,
      "outputs": [
        {
          "output_type": "stream",
          "name": "stdout",
          "text": [
            "Original number of columns:\n",
            "28\n",
            "Current number of columns:\n",
            "24\n"
          ]
        }
      ]
    },
    {
      "cell_type": "markdown",
      "source": [
        "#4.3 Transform the \"..\" strings and empty cells (\" \") into NaN values for easier recognission as missing values"
      ],
      "metadata": {
        "id": "Sb6CWXPhTe0v"
      }
    },
    {
      "cell_type": "code",
      "source": [
        "data_clean.iloc[:,2:]= data_clean.iloc[:,2:].replace({'':np.nan, '..':np.nan})"
      ],
      "metadata": {
        "id": "Jd6aBaSnUHz4"
      },
      "execution_count": 19,
      "outputs": []
    },
    {
      "cell_type": "markdown",
      "source": [
        "#4.4 Tranform all data columns into a numerical data type"
      ],
      "metadata": {
        "id": "cYofGiupU1Xa"
      }
    },
    {
      "cell_type": "code",
      "source": [
        "data_clean2 = data_clean.applymap(lambda x: pd.to_numeric(x,errors='ignore'))\n",
        "\n",
        "print(\"Print the column data types after transformation:\")\n",
        "data_clean2.dtypes"
      ],
      "metadata": {
        "colab": {
          "base_uri": "https://localhost:8080/"
        },
        "id": "Dd-msDMwU7t8",
        "outputId": "e8806c31-e535-48fc-ae70-debcf255337a"
      },
      "execution_count": 21,
      "outputs": [
        {
          "output_type": "stream",
          "name": "stdout",
          "text": [
            "Print the column data types after transformation:\n"
          ]
        },
        {
          "output_type": "execute_result",
          "data": {
            "text/plain": [
              "Country code     object\n",
              "Series name      object\n",
              "1990            float64\n",
              "1991            float64\n",
              "1992            float64\n",
              "1993            float64\n",
              "1994            float64\n",
              "1995            float64\n",
              "1996            float64\n",
              "1997            float64\n",
              "1998            float64\n",
              "1999            float64\n",
              "2000            float64\n",
              "2001            float64\n",
              "2002            float64\n",
              "2003            float64\n",
              "2004            float64\n",
              "2005            float64\n",
              "2006            float64\n",
              "2007            float64\n",
              "2008            float64\n",
              "2009            float64\n",
              "2010            float64\n",
              "2011            float64\n",
              "dtype: object"
            ]
          },
          "metadata": {},
          "execution_count": 21
        }
      ]
    },
    {
      "cell_type": "markdown",
      "source": [
        "#4.5 Rename the features in column \"Series name\""
      ],
      "metadata": {
        "id": "8nJIJxyiV5X7"
      }
    },
    {
      "cell_type": "code",
      "source": [
        "# define shorter names corresponding to most relevant variables in a dictionary\n",
        "chosen_vars = {'Cereal yield (kg per hectare)': 'cereal_yield',\n",
        "               'Foreign direct investment, net inflows (% of GDP)': 'fdi_perc_gdp',\n",
        "               'Access to electricity (% of total population)': 'elec_access_perc',\n",
        "               'Energy use per units of GDP (kg oil eq./$1,000 of 2005 PPP $)': 'en_per_gdp',\n",
        "               'Energy use per capita (kilograms of oil equivalent)': 'en_per_cap',\n",
        "               'CO2 emissions, total (KtCO2)': 'co2_ttl',\n",
        "               'CO2 emissions per capita (metric tons)': 'co2_per_cap',\n",
        "               'CO2 emissions per units of GDP (kg/$1,000 of 2005 PPP $)': 'co2_per_gdp',\n",
        "               'Other GHG emissions, total (KtCO2e)': 'other_ghg_ttl',\n",
        "               'Methane (CH4) emissions, total (KtCO2e)': 'ch4_ttl',\n",
        "               'Nitrous oxide (N2O) emissions, total (KtCO2e)': 'n2o_ttl',\n",
        "               'Droughts, floods, extreme temps (% pop. avg. 1990-2009)': 'nat_emerg',\n",
        "               'Population in urban agglomerations >1million (%)': 'pop_urb_aggl_perc',\n",
        "               'Nationally terrestrial protected areas (% of total land area)': 'prot_area_perc',\n",
        "               'GDP ($)': 'gdp',\n",
        "               'GNI per capita (Atlas $)': 'gni_per_cap',\n",
        "               'Under-five mortality rate (per 1,000)': 'under_5_mort_rate',\n",
        "               'Population growth (annual %)': 'pop_growth_perc',\n",
        "               'Population': 'pop',\n",
        "               'Urban population growth (annual %)': 'urb_pop_growth_perc',\n",
        "               'Urban population': 'urb_pop'\n",
        "                }\n",
        "\n",
        "      "
      ],
      "metadata": {
        "id": "98DvXzPWWUCO"
      },
      "execution_count": 24,
      "outputs": []
    },
    {
      "cell_type": "code",
      "source": [
        "#rename all variables in the column \"Series name\" with comprenhensible  shortest  version\n",
        "data_clean2['Series name'] = data_clean2['Series name'].replace(to_replace= chosen_vars)"
      ],
      "metadata": {
        "id": "6GLn-jK_WY-v"
      },
      "execution_count": 25,
      "outputs": []
    },
    {
      "cell_type": "markdown",
      "source": [
        "#5. Data frame transformation"
      ],
      "metadata": {
        "id": "zhkydY5-XMIQ"
      }
    },
    {
      "cell_type": "code",
      "source": [
        "data_clean2.head()"
      ],
      "metadata": {
        "colab": {
          "base_uri": "https://localhost:8080/",
          "height": 731
        },
        "id": "adUR95a2XQt6",
        "outputId": "ea13546d-91da-4394-a9ff-001c6cd192ca"
      },
      "execution_count": 26,
      "outputs": [
        {
          "output_type": "execute_result",
          "data": {
            "text/plain": [
              "  Country code                          Series name       1990  1991  1992  \\\n",
              "0          ABW  Land area below 5m (% of land area)  29.574810   NaN   NaN   \n",
              "1          ADO  Land area below 5m (% of land area)   0.000000   NaN   NaN   \n",
              "2          AFG  Land area below 5m (% of land area)   0.000000   NaN   NaN   \n",
              "3          AGO  Land area below 5m (% of land area)   0.208235   NaN   NaN   \n",
              "4          ALB  Land area below 5m (% of land area)   4.967875   NaN   NaN   \n",
              "\n",
              "   1993  1994  1995  1996  1997  ...  2002  2003  2004  2005  2006  2007  \\\n",
              "0   NaN   NaN   NaN   NaN   NaN  ...   NaN   NaN   NaN   NaN   NaN   NaN   \n",
              "1   NaN   NaN   NaN   NaN   NaN  ...   NaN   NaN   NaN   NaN   NaN   NaN   \n",
              "2   NaN   NaN   NaN   NaN   NaN  ...   NaN   NaN   NaN   NaN   NaN   NaN   \n",
              "3   NaN   NaN   NaN   NaN   NaN  ...   NaN   NaN   NaN   NaN   NaN   NaN   \n",
              "4   NaN   NaN   NaN   NaN   NaN  ...   NaN   NaN   NaN   NaN   NaN   NaN   \n",
              "\n",
              "   2008  2009  2010  2011  \n",
              "0   NaN   NaN   NaN   NaN  \n",
              "1   NaN   NaN   NaN   NaN  \n",
              "2   NaN   NaN   NaN   NaN  \n",
              "3   NaN   NaN   NaN   NaN  \n",
              "4   NaN   NaN   NaN   NaN  \n",
              "\n",
              "[5 rows x 24 columns]"
            ],
            "text/html": [
              "\n",
              "  <div id=\"df-ce647aa2-0892-4745-8275-23f8e46c6bea\">\n",
              "    <div class=\"colab-df-container\">\n",
              "      <div>\n",
              "<style scoped>\n",
              "    .dataframe tbody tr th:only-of-type {\n",
              "        vertical-align: middle;\n",
              "    }\n",
              "\n",
              "    .dataframe tbody tr th {\n",
              "        vertical-align: top;\n",
              "    }\n",
              "\n",
              "    .dataframe thead th {\n",
              "        text-align: right;\n",
              "    }\n",
              "</style>\n",
              "<table border=\"1\" class=\"dataframe\">\n",
              "  <thead>\n",
              "    <tr style=\"text-align: right;\">\n",
              "      <th></th>\n",
              "      <th>Country code</th>\n",
              "      <th>Series name</th>\n",
              "      <th>1990</th>\n",
              "      <th>1991</th>\n",
              "      <th>1992</th>\n",
              "      <th>1993</th>\n",
              "      <th>1994</th>\n",
              "      <th>1995</th>\n",
              "      <th>1996</th>\n",
              "      <th>1997</th>\n",
              "      <th>...</th>\n",
              "      <th>2002</th>\n",
              "      <th>2003</th>\n",
              "      <th>2004</th>\n",
              "      <th>2005</th>\n",
              "      <th>2006</th>\n",
              "      <th>2007</th>\n",
              "      <th>2008</th>\n",
              "      <th>2009</th>\n",
              "      <th>2010</th>\n",
              "      <th>2011</th>\n",
              "    </tr>\n",
              "  </thead>\n",
              "  <tbody>\n",
              "    <tr>\n",
              "      <th>0</th>\n",
              "      <td>ABW</td>\n",
              "      <td>Land area below 5m (% of land area)</td>\n",
              "      <td>29.574810</td>\n",
              "      <td>NaN</td>\n",
              "      <td>NaN</td>\n",
              "      <td>NaN</td>\n",
              "      <td>NaN</td>\n",
              "      <td>NaN</td>\n",
              "      <td>NaN</td>\n",
              "      <td>NaN</td>\n",
              "      <td>...</td>\n",
              "      <td>NaN</td>\n",
              "      <td>NaN</td>\n",
              "      <td>NaN</td>\n",
              "      <td>NaN</td>\n",
              "      <td>NaN</td>\n",
              "      <td>NaN</td>\n",
              "      <td>NaN</td>\n",
              "      <td>NaN</td>\n",
              "      <td>NaN</td>\n",
              "      <td>NaN</td>\n",
              "    </tr>\n",
              "    <tr>\n",
              "      <th>1</th>\n",
              "      <td>ADO</td>\n",
              "      <td>Land area below 5m (% of land area)</td>\n",
              "      <td>0.000000</td>\n",
              "      <td>NaN</td>\n",
              "      <td>NaN</td>\n",
              "      <td>NaN</td>\n",
              "      <td>NaN</td>\n",
              "      <td>NaN</td>\n",
              "      <td>NaN</td>\n",
              "      <td>NaN</td>\n",
              "      <td>...</td>\n",
              "      <td>NaN</td>\n",
              "      <td>NaN</td>\n",
              "      <td>NaN</td>\n",
              "      <td>NaN</td>\n",
              "      <td>NaN</td>\n",
              "      <td>NaN</td>\n",
              "      <td>NaN</td>\n",
              "      <td>NaN</td>\n",
              "      <td>NaN</td>\n",
              "      <td>NaN</td>\n",
              "    </tr>\n",
              "    <tr>\n",
              "      <th>2</th>\n",
              "      <td>AFG</td>\n",
              "      <td>Land area below 5m (% of land area)</td>\n",
              "      <td>0.000000</td>\n",
              "      <td>NaN</td>\n",
              "      <td>NaN</td>\n",
              "      <td>NaN</td>\n",
              "      <td>NaN</td>\n",
              "      <td>NaN</td>\n",
              "      <td>NaN</td>\n",
              "      <td>NaN</td>\n",
              "      <td>...</td>\n",
              "      <td>NaN</td>\n",
              "      <td>NaN</td>\n",
              "      <td>NaN</td>\n",
              "      <td>NaN</td>\n",
              "      <td>NaN</td>\n",
              "      <td>NaN</td>\n",
              "      <td>NaN</td>\n",
              "      <td>NaN</td>\n",
              "      <td>NaN</td>\n",
              "      <td>NaN</td>\n",
              "    </tr>\n",
              "    <tr>\n",
              "      <th>3</th>\n",
              "      <td>AGO</td>\n",
              "      <td>Land area below 5m (% of land area)</td>\n",
              "      <td>0.208235</td>\n",
              "      <td>NaN</td>\n",
              "      <td>NaN</td>\n",
              "      <td>NaN</td>\n",
              "      <td>NaN</td>\n",
              "      <td>NaN</td>\n",
              "      <td>NaN</td>\n",
              "      <td>NaN</td>\n",
              "      <td>...</td>\n",
              "      <td>NaN</td>\n",
              "      <td>NaN</td>\n",
              "      <td>NaN</td>\n",
              "      <td>NaN</td>\n",
              "      <td>NaN</td>\n",
              "      <td>NaN</td>\n",
              "      <td>NaN</td>\n",
              "      <td>NaN</td>\n",
              "      <td>NaN</td>\n",
              "      <td>NaN</td>\n",
              "    </tr>\n",
              "    <tr>\n",
              "      <th>4</th>\n",
              "      <td>ALB</td>\n",
              "      <td>Land area below 5m (% of land area)</td>\n",
              "      <td>4.967875</td>\n",
              "      <td>NaN</td>\n",
              "      <td>NaN</td>\n",
              "      <td>NaN</td>\n",
              "      <td>NaN</td>\n",
              "      <td>NaN</td>\n",
              "      <td>NaN</td>\n",
              "      <td>NaN</td>\n",
              "      <td>...</td>\n",
              "      <td>NaN</td>\n",
              "      <td>NaN</td>\n",
              "      <td>NaN</td>\n",
              "      <td>NaN</td>\n",
              "      <td>NaN</td>\n",
              "      <td>NaN</td>\n",
              "      <td>NaN</td>\n",
              "      <td>NaN</td>\n",
              "      <td>NaN</td>\n",
              "      <td>NaN</td>\n",
              "    </tr>\n",
              "  </tbody>\n",
              "</table>\n",
              "<p>5 rows × 24 columns</p>\n",
              "</div>\n",
              "      <button class=\"colab-df-convert\" onclick=\"convertToInteractive('df-ce647aa2-0892-4745-8275-23f8e46c6bea')\"\n",
              "              title=\"Convert this dataframe to an interactive table.\"\n",
              "              style=\"display:none;\">\n",
              "        \n",
              "  <svg xmlns=\"http://www.w3.org/2000/svg\" height=\"24px\"viewBox=\"0 0 24 24\"\n",
              "       width=\"24px\">\n",
              "    <path d=\"M0 0h24v24H0V0z\" fill=\"none\"/>\n",
              "    <path d=\"M18.56 5.44l.94 2.06.94-2.06 2.06-.94-2.06-.94-.94-2.06-.94 2.06-2.06.94zm-11 1L8.5 8.5l.94-2.06 2.06-.94-2.06-.94L8.5 2.5l-.94 2.06-2.06.94zm10 10l.94 2.06.94-2.06 2.06-.94-2.06-.94-.94-2.06-.94 2.06-2.06.94z\"/><path d=\"M17.41 7.96l-1.37-1.37c-.4-.4-.92-.59-1.43-.59-.52 0-1.04.2-1.43.59L10.3 9.45l-7.72 7.72c-.78.78-.78 2.05 0 2.83L4 21.41c.39.39.9.59 1.41.59.51 0 1.02-.2 1.41-.59l7.78-7.78 2.81-2.81c.8-.78.8-2.07 0-2.86zM5.41 20L4 18.59l7.72-7.72 1.47 1.35L5.41 20z\"/>\n",
              "  </svg>\n",
              "      </button>\n",
              "      \n",
              "  <style>\n",
              "    .colab-df-container {\n",
              "      display:flex;\n",
              "      flex-wrap:wrap;\n",
              "      gap: 12px;\n",
              "    }\n",
              "\n",
              "    .colab-df-convert {\n",
              "      background-color: #E8F0FE;\n",
              "      border: none;\n",
              "      border-radius: 50%;\n",
              "      cursor: pointer;\n",
              "      display: none;\n",
              "      fill: #1967D2;\n",
              "      height: 32px;\n",
              "      padding: 0 0 0 0;\n",
              "      width: 32px;\n",
              "    }\n",
              "\n",
              "    .colab-df-convert:hover {\n",
              "      background-color: #E2EBFA;\n",
              "      box-shadow: 0px 1px 2px rgba(60, 64, 67, 0.3), 0px 1px 3px 1px rgba(60, 64, 67, 0.15);\n",
              "      fill: #174EA6;\n",
              "    }\n",
              "\n",
              "    [theme=dark] .colab-df-convert {\n",
              "      background-color: #3B4455;\n",
              "      fill: #D2E3FC;\n",
              "    }\n",
              "\n",
              "    [theme=dark] .colab-df-convert:hover {\n",
              "      background-color: #434B5C;\n",
              "      box-shadow: 0px 1px 3px 1px rgba(0, 0, 0, 0.15);\n",
              "      filter: drop-shadow(0px 1px 2px rgba(0, 0, 0, 0.3));\n",
              "      fill: #FFFFFF;\n",
              "    }\n",
              "  </style>\n",
              "\n",
              "      <script>\n",
              "        const buttonEl =\n",
              "          document.querySelector('#df-ce647aa2-0892-4745-8275-23f8e46c6bea button.colab-df-convert');\n",
              "        buttonEl.style.display =\n",
              "          google.colab.kernel.accessAllowed ? 'block' : 'none';\n",
              "\n",
              "        async function convertToInteractive(key) {\n",
              "          const element = document.querySelector('#df-ce647aa2-0892-4745-8275-23f8e46c6bea');\n",
              "          const dataTable =\n",
              "            await google.colab.kernel.invokeFunction('convertToInteractive',\n",
              "                                                     [key], {});\n",
              "          if (!dataTable) return;\n",
              "\n",
              "          const docLinkHtml = 'Like what you see? Visit the ' +\n",
              "            '<a target=\"_blank\" href=https://colab.research.google.com/notebooks/data_table.ipynb>data table notebook</a>'\n",
              "            + ' to learn more about interactive tables.';\n",
              "          element.innerHTML = '';\n",
              "          dataTable['output_type'] = 'display_data';\n",
              "          await google.colab.output.renderOutput(dataTable, element);\n",
              "          const docLink = document.createElement('div');\n",
              "          docLink.innerHTML = docLinkHtml;\n",
              "          element.appendChild(docLink);\n",
              "        }\n",
              "      </script>\n",
              "    </div>\n",
              "  </div>\n",
              "  "
            ]
          },
          "metadata": {},
          "execution_count": 26
        }
      ]
    },
    {
      "cell_type": "markdown",
      "source": [
        "It is necessary to transform the data frame into a suitable format- the feature from the 'Series name' column into separate columns and the years into a single column. This is done by picking the corresponding values of each feature together with their countries and years, melting these into a single column and then combine them into a new data frame with all features (based on the same countries and years):"
      ],
      "metadata": {
        "id": "Vgxbr4pFXbi9"
      }
    },
    {
      "cell_type": "code",
      "source": [
        "!pip install --upgrade utils"
      ],
      "metadata": {
        "colab": {
          "base_uri": "https://localhost:8080/"
        },
        "id": "UAZ8RHuDcSfC",
        "outputId": "503bb4cd-2bce-4e45-b38b-a6fcf8e35ca5"
      },
      "execution_count": 36,
      "outputs": [
        {
          "output_type": "stream",
          "name": "stdout",
          "text": [
            "Looking in indexes: https://pypi.org/simple, https://us-python.pkg.dev/colab-wheels/public/simple/\n",
            "Collecting utils\n",
            "  Downloading utils-1.0.1-py2.py3-none-any.whl (21 kB)\n",
            "Installing collected packages: utils\n",
            "Successfully installed utils-1.0.1\n"
          ]
        }
      ]
    },
    {
      "cell_type": "code",
      "source": [
        "!pip install --upgrade functools32"
      ],
      "metadata": {
        "colab": {
          "base_uri": "https://localhost:8080/"
        },
        "id": "trmVt3G1c7qS",
        "outputId": "18c55407-f782-42d7-82be-380bd34128e1"
      },
      "execution_count": 48,
      "outputs": [
        {
          "output_type": "stream",
          "name": "stdout",
          "text": [
            "Looking in indexes: https://pypi.org/simple, https://us-python.pkg.dev/colab-wheels/public/simple/\n",
            "Collecting functools32\n",
            "  Using cached functools32-3.2.3-2.zip (34 kB)\n",
            "\u001b[33mWARNING: Discarding https://files.pythonhosted.org/packages/5e/1a/0aa2c8195a204a9f51284018562dea77e25511f02fe924fac202fc012172/functools32-3.2.3-2.zip#sha256=89d824aa6c358c421a234d7f9ee0bd75933a67c29588ce50aaa3acdf4d403fa0 (from https://pypi.org/simple/functools32/). Command errored out with exit status 1: python setup.py egg_info Check the logs for full command output.\u001b[0m\n",
            "  Using cached functools32-3.2.3-2.tar.gz (31 kB)\n",
            "\u001b[33mWARNING: Discarding https://files.pythonhosted.org/packages/c5/60/6ac26ad05857c601308d8fb9e87fa36d0ebf889423f47c3502ef034365db/functools32-3.2.3-2.tar.gz#sha256=f6253dfbe0538ad2e387bd8fdfd9293c925d63553f5813c4e587745416501e6d (from https://pypi.org/simple/functools32/). Command errored out with exit status 1: python setup.py egg_info Check the logs for full command output.\u001b[0m\n",
            "  Using cached functools32-3.2.3-1.zip (34 kB)\n",
            "\u001b[33mWARNING: Discarding https://files.pythonhosted.org/packages/bb/02/8d75ecdec125bed75e414bd9c52160c42c7fdbbc11b01435e46d8859651b/functools32-3.2.3-1.zip#sha256=3c0752c677a8b5169ac7afb194847db53d4ece88681951c6ca6e9fdd1c12ed62 (from https://pypi.org/simple/functools32/). Command errored out with exit status 1: python setup.py egg_info Check the logs for full command output.\u001b[0m\n",
            "  Using cached functools32-3.2.3-1.tar.gz (31 kB)\n",
            "\u001b[33mWARNING: Discarding https://files.pythonhosted.org/packages/e9/07/09abd35aaaef501a669f1b0bc39004e512dce3abaa1846450a952a09f9eb/functools32-3.2.3-1.tar.gz#sha256=6a3b7420432b0817ef192aef341cd766e199801a90ca7fe319f9d5fca40edda2 (from https://pypi.org/simple/functools32/). Command errored out with exit status 1: python setup.py egg_info Check the logs for full command output.\u001b[0m\n",
            "\u001b[31mERROR: Could not find a version that satisfies the requirement functools32 (from versions: 3.2.3.post1, 3.2.3.post2)\u001b[0m\n",
            "\u001b[31mERROR: No matching distribution found for functools32\u001b[0m\n"
          ]
        }
      ]
    },
    {
      "cell_type": "code",
      "source": [
        "def reduce(function, iterable, start):\n",
        "    result = start\n",
        "    for x in iterable:\n",
        "      result = function(result, x)\n",
        "\n",
        "    return result"
      ],
      "metadata": {
        "id": "pUKE2y1ZgVHc"
      },
      "execution_count": 51,
      "outputs": []
    },
    {
      "cell_type": "code",
      "source": [
        "not_seen = object()\n",
        "\n",
        "\n",
        "def reduce(function, iterable, default=not_seen):\n",
        "    \"\"\"An approximation of the code for functools.reduce.\"\"\"\n",
        "    value = default\n",
        "    for item in iterable:\n",
        "        if value is not_seen:\n",
        "            value = item\n",
        "            continue\n",
        "        value = function(value, item)\n",
        "    return value\n"
      ],
      "metadata": {
        "id": "D51iFh95iO-_"
      },
      "execution_count": 54,
      "outputs": []
    },
    {
      "cell_type": "code",
      "source": [
        "# save the short feature names into a list of strings\n",
        "chosen_cols = list(chosen_vars.values())\n",
        "\n",
        "# define an emply list, where sub-dataframes for each feature will be saved\n",
        "frame_list = []\n",
        "\n",
        "# iterate over all chosen features\n",
        "for feature in chosen_cols:\n",
        "\n",
        "  frame = data_clean2[data_clean2['Series name'] == feature]\n",
        "\n",
        "  frame = frame.melt(id_vars=['Country code', 'Series name']).rename(columns={'Country code': 'country', 'feature': 'year', 'value': feature}).drop(['Series name'], axis='columns')\n",
        "\n",
        "\n",
        "  frame_list.append(frame)\n",
        "\n",
        "#from functools import reduce\n",
        "  #all_vars = reduce (lambda left, right: pd.merge(left, right, on=['country', 'year'], how='outer'), frame_list)\n",
        "  all_vars = reduce(lambda left, right: pd.merge(left, right, on=['country','year'], how='outer'), frame_list)"
      ],
      "metadata": {
        "colab": {
          "base_uri": "https://localhost:8080/",
          "height": 351
        },
        "id": "PVq5koeyYCkP",
        "outputId": "40b65716-c2cd-483c-a32c-9c19b12c60f8"
      },
      "execution_count": 55,
      "outputs": [
        {
          "output_type": "error",
          "ename": "KeyError",
          "evalue": "ignored",
          "traceback": [
            "\u001b[0;31m---------------------------------------------------------------------------\u001b[0m",
            "\u001b[0;31mKeyError\u001b[0m                                  Traceback (most recent call last)",
            "\u001b[0;32m<ipython-input-55-c8a3a6e7c9cd>\u001b[0m in \u001b[0;36m<module>\u001b[0;34m\u001b[0m\n\u001b[1;32m     17\u001b[0m \u001b[0;31m#from functools import reduce\u001b[0m\u001b[0;34m\u001b[0m\u001b[0;34m\u001b[0m\u001b[0;34m\u001b[0m\u001b[0m\n\u001b[1;32m     18\u001b[0m   \u001b[0;31m#all_vars = reduce (lambda left, right: pd.merge(left, right, on=['country', 'year'], how='outer'), frame_list)\u001b[0m\u001b[0;34m\u001b[0m\u001b[0;34m\u001b[0m\u001b[0;34m\u001b[0m\u001b[0m\n\u001b[0;32m---> 19\u001b[0;31m   \u001b[0mall_vars\u001b[0m \u001b[0;34m=\u001b[0m \u001b[0mreduce\u001b[0m\u001b[0;34m(\u001b[0m\u001b[0;32mlambda\u001b[0m \u001b[0mleft\u001b[0m\u001b[0;34m,\u001b[0m \u001b[0mright\u001b[0m\u001b[0;34m:\u001b[0m \u001b[0mpd\u001b[0m\u001b[0;34m.\u001b[0m\u001b[0mmerge\u001b[0m\u001b[0;34m(\u001b[0m\u001b[0mleft\u001b[0m\u001b[0;34m,\u001b[0m \u001b[0mright\u001b[0m\u001b[0;34m,\u001b[0m \u001b[0mon\u001b[0m\u001b[0;34m=\u001b[0m\u001b[0;34m[\u001b[0m\u001b[0;34m'country'\u001b[0m\u001b[0;34m,\u001b[0m\u001b[0;34m'year'\u001b[0m\u001b[0;34m]\u001b[0m\u001b[0;34m,\u001b[0m \u001b[0mhow\u001b[0m\u001b[0;34m=\u001b[0m\u001b[0;34m'outer'\u001b[0m\u001b[0;34m)\u001b[0m\u001b[0;34m,\u001b[0m \u001b[0mframe_list\u001b[0m\u001b[0;34m)\u001b[0m\u001b[0;34m\u001b[0m\u001b[0;34m\u001b[0m\u001b[0m\n\u001b[0m",
            "\u001b[0;32m<ipython-input-54-08b1a7133aba>\u001b[0m in \u001b[0;36mreduce\u001b[0;34m(function, iterable, default)\u001b[0m\n\u001b[1;32m      9\u001b[0m             \u001b[0mvalue\u001b[0m \u001b[0;34m=\u001b[0m \u001b[0mitem\u001b[0m\u001b[0;34m\u001b[0m\u001b[0;34m\u001b[0m\u001b[0m\n\u001b[1;32m     10\u001b[0m             \u001b[0;32mcontinue\u001b[0m\u001b[0;34m\u001b[0m\u001b[0;34m\u001b[0m\u001b[0m\n\u001b[0;32m---> 11\u001b[0;31m         \u001b[0mvalue\u001b[0m \u001b[0;34m=\u001b[0m \u001b[0mfunction\u001b[0m\u001b[0;34m(\u001b[0m\u001b[0mvalue\u001b[0m\u001b[0;34m,\u001b[0m \u001b[0mitem\u001b[0m\u001b[0;34m)\u001b[0m\u001b[0;34m\u001b[0m\u001b[0;34m\u001b[0m\u001b[0m\n\u001b[0m\u001b[1;32m     12\u001b[0m     \u001b[0;32mreturn\u001b[0m \u001b[0mvalue\u001b[0m\u001b[0;34m\u001b[0m\u001b[0;34m\u001b[0m\u001b[0m\n",
            "\u001b[0;32m<ipython-input-55-c8a3a6e7c9cd>\u001b[0m in \u001b[0;36m<lambda>\u001b[0;34m(left, right)\u001b[0m\n\u001b[1;32m     17\u001b[0m \u001b[0;31m#from functools import reduce\u001b[0m\u001b[0;34m\u001b[0m\u001b[0;34m\u001b[0m\u001b[0;34m\u001b[0m\u001b[0m\n\u001b[1;32m     18\u001b[0m   \u001b[0;31m#all_vars = reduce (lambda left, right: pd.merge(left, right, on=['country', 'year'], how='outer'), frame_list)\u001b[0m\u001b[0;34m\u001b[0m\u001b[0;34m\u001b[0m\u001b[0;34m\u001b[0m\u001b[0m\n\u001b[0;32m---> 19\u001b[0;31m   \u001b[0mall_vars\u001b[0m \u001b[0;34m=\u001b[0m \u001b[0mreduce\u001b[0m\u001b[0;34m(\u001b[0m\u001b[0;32mlambda\u001b[0m \u001b[0mleft\u001b[0m\u001b[0;34m,\u001b[0m \u001b[0mright\u001b[0m\u001b[0;34m:\u001b[0m \u001b[0mpd\u001b[0m\u001b[0;34m.\u001b[0m\u001b[0mmerge\u001b[0m\u001b[0;34m(\u001b[0m\u001b[0mleft\u001b[0m\u001b[0;34m,\u001b[0m \u001b[0mright\u001b[0m\u001b[0;34m,\u001b[0m \u001b[0mon\u001b[0m\u001b[0;34m=\u001b[0m\u001b[0;34m[\u001b[0m\u001b[0;34m'country'\u001b[0m\u001b[0;34m,\u001b[0m\u001b[0;34m'year'\u001b[0m\u001b[0;34m]\u001b[0m\u001b[0;34m,\u001b[0m \u001b[0mhow\u001b[0m\u001b[0;34m=\u001b[0m\u001b[0;34m'outer'\u001b[0m\u001b[0;34m)\u001b[0m\u001b[0;34m,\u001b[0m \u001b[0mframe_list\u001b[0m\u001b[0;34m)\u001b[0m\u001b[0;34m\u001b[0m\u001b[0;34m\u001b[0m\u001b[0m\n\u001b[0m",
            "\u001b[0;32m/usr/local/lib/python3.7/dist-packages/pandas/core/reshape/merge.py\u001b[0m in \u001b[0;36mmerge\u001b[0;34m(left, right, how, on, left_on, right_on, left_index, right_index, sort, suffixes, copy, indicator, validate)\u001b[0m\n\u001b[1;32m    117\u001b[0m         \u001b[0mcopy\u001b[0m\u001b[0;34m=\u001b[0m\u001b[0mcopy\u001b[0m\u001b[0;34m,\u001b[0m\u001b[0;34m\u001b[0m\u001b[0;34m\u001b[0m\u001b[0m\n\u001b[1;32m    118\u001b[0m         \u001b[0mindicator\u001b[0m\u001b[0;34m=\u001b[0m\u001b[0mindicator\u001b[0m\u001b[0;34m,\u001b[0m\u001b[0;34m\u001b[0m\u001b[0;34m\u001b[0m\u001b[0m\n\u001b[0;32m--> 119\u001b[0;31m         \u001b[0mvalidate\u001b[0m\u001b[0;34m=\u001b[0m\u001b[0mvalidate\u001b[0m\u001b[0;34m,\u001b[0m\u001b[0;34m\u001b[0m\u001b[0;34m\u001b[0m\u001b[0m\n\u001b[0m\u001b[1;32m    120\u001b[0m     )\n\u001b[1;32m    121\u001b[0m     \u001b[0;32mreturn\u001b[0m \u001b[0mop\u001b[0m\u001b[0;34m.\u001b[0m\u001b[0mget_result\u001b[0m\u001b[0;34m(\u001b[0m\u001b[0;34m)\u001b[0m\u001b[0;34m\u001b[0m\u001b[0;34m\u001b[0m\u001b[0m\n",
            "\u001b[0;32m/usr/local/lib/python3.7/dist-packages/pandas/core/reshape/merge.py\u001b[0m in \u001b[0;36m__init__\u001b[0;34m(self, left, right, how, on, left_on, right_on, axis, left_index, right_index, sort, suffixes, copy, indicator, validate)\u001b[0m\n\u001b[1;32m    697\u001b[0m             \u001b[0mself\u001b[0m\u001b[0;34m.\u001b[0m\u001b[0mright_join_keys\u001b[0m\u001b[0;34m,\u001b[0m\u001b[0;34m\u001b[0m\u001b[0;34m\u001b[0m\u001b[0m\n\u001b[1;32m    698\u001b[0m             \u001b[0mself\u001b[0m\u001b[0;34m.\u001b[0m\u001b[0mjoin_names\u001b[0m\u001b[0;34m,\u001b[0m\u001b[0;34m\u001b[0m\u001b[0;34m\u001b[0m\u001b[0m\n\u001b[0;32m--> 699\u001b[0;31m         ) = self._get_merge_keys()\n\u001b[0m\u001b[1;32m    700\u001b[0m \u001b[0;34m\u001b[0m\u001b[0m\n\u001b[1;32m    701\u001b[0m         \u001b[0;31m# validate the merge keys dtypes. We may need to coerce\u001b[0m\u001b[0;34m\u001b[0m\u001b[0;34m\u001b[0m\u001b[0;34m\u001b[0m\u001b[0m\n",
            "\u001b[0;32m/usr/local/lib/python3.7/dist-packages/pandas/core/reshape/merge.py\u001b[0m in \u001b[0;36m_get_merge_keys\u001b[0;34m(self)\u001b[0m\n\u001b[1;32m   1094\u001b[0m                     \u001b[0;32mif\u001b[0m \u001b[0;32mnot\u001b[0m \u001b[0mis_rkey\u001b[0m\u001b[0;34m(\u001b[0m\u001b[0mrk\u001b[0m\u001b[0;34m)\u001b[0m\u001b[0;34m:\u001b[0m\u001b[0;34m\u001b[0m\u001b[0;34m\u001b[0m\u001b[0m\n\u001b[1;32m   1095\u001b[0m                         \u001b[0;32mif\u001b[0m \u001b[0mrk\u001b[0m \u001b[0;32mis\u001b[0m \u001b[0;32mnot\u001b[0m \u001b[0;32mNone\u001b[0m\u001b[0;34m:\u001b[0m\u001b[0;34m\u001b[0m\u001b[0;34m\u001b[0m\u001b[0m\n\u001b[0;32m-> 1096\u001b[0;31m                             \u001b[0mright_keys\u001b[0m\u001b[0;34m.\u001b[0m\u001b[0mappend\u001b[0m\u001b[0;34m(\u001b[0m\u001b[0mright\u001b[0m\u001b[0;34m.\u001b[0m\u001b[0m_get_label_or_level_values\u001b[0m\u001b[0;34m(\u001b[0m\u001b[0mrk\u001b[0m\u001b[0;34m)\u001b[0m\u001b[0;34m)\u001b[0m\u001b[0;34m\u001b[0m\u001b[0;34m\u001b[0m\u001b[0m\n\u001b[0m\u001b[1;32m   1097\u001b[0m                         \u001b[0;32melse\u001b[0m\u001b[0;34m:\u001b[0m\u001b[0;34m\u001b[0m\u001b[0;34m\u001b[0m\u001b[0m\n\u001b[1;32m   1098\u001b[0m                             \u001b[0;31m# work-around for merge_asof(right_index=True)\u001b[0m\u001b[0;34m\u001b[0m\u001b[0;34m\u001b[0m\u001b[0;34m\u001b[0m\u001b[0m\n",
            "\u001b[0;32m/usr/local/lib/python3.7/dist-packages/pandas/core/generic.py\u001b[0m in \u001b[0;36m_get_label_or_level_values\u001b[0;34m(self, key, axis)\u001b[0m\n\u001b[1;32m   1777\u001b[0m             \u001b[0mvalues\u001b[0m \u001b[0;34m=\u001b[0m \u001b[0mself\u001b[0m\u001b[0;34m.\u001b[0m\u001b[0maxes\u001b[0m\u001b[0;34m[\u001b[0m\u001b[0maxis\u001b[0m\u001b[0;34m]\u001b[0m\u001b[0;34m.\u001b[0m\u001b[0mget_level_values\u001b[0m\u001b[0;34m(\u001b[0m\u001b[0mkey\u001b[0m\u001b[0;34m)\u001b[0m\u001b[0;34m.\u001b[0m\u001b[0m_values\u001b[0m\u001b[0;34m\u001b[0m\u001b[0;34m\u001b[0m\u001b[0m\n\u001b[1;32m   1778\u001b[0m         \u001b[0;32melse\u001b[0m\u001b[0;34m:\u001b[0m\u001b[0;34m\u001b[0m\u001b[0;34m\u001b[0m\u001b[0m\n\u001b[0;32m-> 1779\u001b[0;31m             \u001b[0;32mraise\u001b[0m \u001b[0mKeyError\u001b[0m\u001b[0;34m(\u001b[0m\u001b[0mkey\u001b[0m\u001b[0;34m)\u001b[0m\u001b[0;34m\u001b[0m\u001b[0;34m\u001b[0m\u001b[0m\n\u001b[0m\u001b[1;32m   1780\u001b[0m \u001b[0;34m\u001b[0m\u001b[0m\n\u001b[1;32m   1781\u001b[0m         \u001b[0;31m# Check for duplicates\u001b[0m\u001b[0;34m\u001b[0m\u001b[0;34m\u001b[0m\u001b[0;34m\u001b[0m\u001b[0m\n",
            "\u001b[0;31mKeyError\u001b[0m: 'year'"
          ]
        }
      ]
    },
    {
      "cell_type": "code",
      "source": [
        "all_vars.head()"
      ],
      "metadata": {
        "id": "4_aMJdipbVuv"
      },
      "execution_count": null,
      "outputs": []
    },
    {
      "cell_type": "markdown",
      "source": [],
      "metadata": {
        "id": "REanqKa0YBv8"
      }
    }
  ]
}